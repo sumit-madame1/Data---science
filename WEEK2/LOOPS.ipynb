{
 "cells": [
  {
   "cell_type": "code",
   "execution_count": 7,
   "id": "f5306cdb-f8e3-48b8-b6e9-6a5e4d263b62",
   "metadata": {},
   "outputs": [
    {
     "name": "stdin",
     "output_type": "stream",
     "text": [
      "enter the marks 42\n"
     ]
    },
    {
     "name": "stdout",
     "output_type": "stream",
     "text": [
      "you are pass\n"
     ]
    }
   ],
   "source": [
    "marks =int(input (\"enter the marks\"))\n",
    "if marks >= 80 :\n",
    "    print(\"you are the champ\")\n",
    "elif marks<60:\n",
    "    print(\"you are pass\")\n",
    "elif marks <=35:\n",
    "    print(\"we are regret to infrom you you are faild\")\n",
    "else:\n",
    "    print(\"you are not eligible for next class\")\n",
    "    "
   ]
  },
  {
   "cell_type": "code",
   "execution_count": 9,
   "id": "6ca5111f-9c9a-4c55-a5da-c7ae0cccda27",
   "metadata": {},
   "outputs": [
    {
     "name": "stdin",
     "output_type": "stream",
     "text": [
      "enter your marks  40\n"
     ]
    },
    {
     "name": "stdout",
     "output_type": "stream",
     "text": [
      "you will be a part of A2 batch \n"
     ]
    }
   ],
   "source": [
    "Marks = int(input(\"enter your marks \"))\n",
    "if Marks >= 80:\n",
    "    print(\"you will be a part of A0 batch\")\n",
    "elif Marks>= 60 and marks< 80:\n",
    "    print(\"you will be a part of A1 batch\")\n",
    "elif Marks >= 40 and marks < 60 :\n",
    "    print(\"you will be a part of A2 batch \")\n",
    "else :\n",
    "    print(\"you will be a part of A3 batch \")"
   ]
  },
  {
   "cell_type": "code",
   "execution_count": 11,
   "id": "cd0f4832-9b21-4650-86ad-9aa914c216d1",
   "metadata": {},
   "outputs": [
    {
     "name": "stdin",
     "output_type": "stream",
     "text": [
      "please enter the price  45.00\n"
     ]
    },
    {
     "name": "stdout",
     "output_type": "stream",
     "text": [
      "le sakte hai bhai\n"
     ]
    }
   ],
   "source": [
    "price = float(input(\"please enter the price \"))\n",
    "\n",
    "if price >1000:\n",
    "              print(\"nh le sakte baba\")\n",
    "else:\n",
    "              print(\"le sakte hai bhai\")\n",
    "              "
   ]
  },
  {
   "cell_type": "code",
   "execution_count": 13,
   "id": "988126da-cc54-4239-963a-cc43d511f2f4",
   "metadata": {},
   "outputs": [
    {
     "name": "stdin",
     "output_type": "stream",
     "text": [
      "enter price  450\n"
     ]
    },
    {
     "name": "stdout",
     "output_type": "stream",
     "text": [
      "i will purchase\n"
     ]
    }
   ],
   "source": [
    "price = int(input(\"enter price \" ))\n",
    "if price > 1000:\n",
    "    print(\"i will not purchase\")\n",
    "    if price >5000:\n",
    "        print(\"this is too much \")\n",
    "    elif price < 2000 : \n",
    "        print(\"its ok\")\n",
    "elif price < 1000 or price > 500 :\n",
    "    print(\"i will purchase\")\n",
    "else :\n",
    "    print(\"not interested \")\n",
    "    "
   ]
  },
  {
   "cell_type": "code",
   "execution_count": 15,
   "id": "8e081ec4-9e02-4691-82d2-c00cfd2617a0",
   "metadata": {},
   "outputs": [],
   "source": [
    "l=[1,2,3,4,5,6,7,8,9,10]\n"
   ]
  },
  {
   "cell_type": "code",
   "execution_count": 16,
   "id": "078a7eda-50f1-4e5e-a91b-22bb880b7820",
   "metadata": {},
   "outputs": [
    {
     "data": {
      "text/plain": [
       "2"
      ]
     },
     "execution_count": 16,
     "metadata": {},
     "output_type": "execute_result"
    }
   ],
   "source": [
    "l[0]+1"
   ]
  },
  {
   "cell_type": "code",
   "execution_count": 18,
   "id": "1cbc0ea5-5c82-4402-bbed-dda75c216cc3",
   "metadata": {},
   "outputs": [],
   "source": [
    "l2=[]"
   ]
  },
  {
   "cell_type": "code",
   "execution_count": 19,
   "id": "932587dc-d933-47bd-ad46-41e281145cdf",
   "metadata": {},
   "outputs": [],
   "source": [
    "l2.append(l[0]+1)"
   ]
  },
  {
   "cell_type": "code",
   "execution_count": 20,
   "id": "db4ad3ce-415f-42f5-b452-f7b4fa1d732a",
   "metadata": {},
   "outputs": [
    {
     "data": {
      "text/plain": [
       "[2]"
      ]
     },
     "execution_count": 20,
     "metadata": {},
     "output_type": "execute_result"
    }
   ],
   "source": [
    "l2"
   ]
  },
  {
   "cell_type": "code",
   "execution_count": 21,
   "id": "ded79d70-4e3e-4bad-85b2-644cf58fb312",
   "metadata": {},
   "outputs": [],
   "source": []
  },
  {
   "cell_type": "code",
   "execution_count": 29,
   "id": "f9d1d9c9-785b-42ca-8e33-f1f493d7197b",
   "metadata": {},
   "outputs": [
    {
     "name": "stdout",
     "output_type": "stream",
     "text": [
      "2\n",
      "3\n",
      "4\n",
      "5\n",
      "6\n",
      "7\n",
      "8\n",
      "9\n",
      "10\n",
      "11\n"
     ]
    },
    {
     "data": {
      "text/plain": [
       "[2, 3, 4, 5, 6, 7, 8, 9, 10, 11]"
      ]
     },
     "execution_count": 29,
     "metadata": {},
     "output_type": "execute_result"
    }
   ],
   "source": [
    "l=[1,2,3,4,5,6,7,8,9,10]\n",
    "l2=[]\n",
    "for i in l:\n",
    "  \n",
    "    l2.append(i+1)\n",
    "    print(i+1)\n",
    "l2        "
   ]
  },
  {
   "cell_type": "code",
   "execution_count": 30,
   "id": "1028a6cf-d6b4-4abe-b1b0-ff79aecf70af",
   "metadata": {},
   "outputs": [],
   "source": [
    "name =['sumit','madame','sadanand','priyanka']"
   ]
  },
  {
   "cell_type": "code",
   "execution_count": 31,
   "id": "50c685e6-3ba4-496e-8ac4-226d59025b82",
   "metadata": {},
   "outputs": [
    {
     "data": {
      "text/plain": [
       "['sumit', 'madame', 'sadanand', 'priyanka']"
      ]
     },
     "execution_count": 31,
     "metadata": {},
     "output_type": "execute_result"
    }
   ],
   "source": [
    "name"
   ]
  },
  {
   "cell_type": "code",
   "execution_count": 35,
   "id": "091702b5-1910-4934-9635-6dbb8ae49174",
   "metadata": {},
   "outputs": [
    {
     "data": {
      "text/plain": [
       "1"
      ]
     },
     "execution_count": 35,
     "metadata": {},
     "output_type": "execute_result"
    }
   ],
   "source": [
    "name.count('sumit')"
   ]
  },
  {
   "cell_type": "code",
   "execution_count": 42,
   "id": "beafe436-0a96-4174-810e-ac9ec061c1b5",
   "metadata": {},
   "outputs": [
    {
     "name": "stdout",
     "output_type": "stream",
     "text": [
      "sumit\n",
      "madame\n",
      "sadanand\n",
      "priyanka\n"
     ]
    },
    {
     "data": {
      "text/plain": [
       "['SUMIT', 'MADAME', 'SADANAND', 'PRIYANKA']"
      ]
     },
     "execution_count": 42,
     "metadata": {},
     "output_type": "execute_result"
    }
   ],
   "source": [
    "name2=[]\n",
    "for i in name:\n",
    "    print(i)\n",
    "    name2.append(i.upper())   \n",
    "name2   "
   ]
  },
  {
   "cell_type": "code",
   "execution_count": 43,
   "id": "81a80e83-f121-4252-84ed-20e4b7be5d7a",
   "metadata": {},
   "outputs": [],
   "source": [
    "\n",
    "\n",
    "l5 = [1,2,3,4,4,\"sudh\" , \"kmumar\" , 324,34.456,\"abc\"]"
   ]
  },
  {
   "cell_type": "code",
   "execution_count": 44,
   "id": "1ed7b3d9-e660-4450-b6e6-ad6f4234a007",
   "metadata": {},
   "outputs": [
    {
     "data": {
      "text/plain": [
       "[1, 2, 3, 4, 4, 'sudh', 'kmumar', 324, 34.456, 'abc']"
      ]
     },
     "execution_count": 44,
     "metadata": {},
     "output_type": "execute_result"
    }
   ],
   "source": [
    "l5"
   ]
  },
  {
   "cell_type": "code",
   "execution_count": 48,
   "id": "873173bc-6990-4823-ad14-80891f6bd3b2",
   "metadata": {},
   "outputs": [],
   "source": [
    "l6_number=[]\n",
    "l7_number=[]\n",
    "\n",
    "for i in l5:\n",
    "    if  type(i) == int or type(i) ==float:\n",
    "        l6_number.append(i)\n",
    "    else:\n",
    "        l7_number.append(i)\n",
    "    \n",
    "   # print(i)\n",
    "    "
   ]
  },
  {
   "cell_type": "code",
   "execution_count": 49,
   "id": "3fd3e0ff-4f72-4855-8dac-75b435c43091",
   "metadata": {},
   "outputs": [
    {
     "data": {
      "text/plain": [
       "[1, 2, 3, 4, 4, 324, 34.456]"
      ]
     },
     "execution_count": 49,
     "metadata": {},
     "output_type": "execute_result"
    }
   ],
   "source": [
    "l6_number"
   ]
  },
  {
   "cell_type": "code",
   "execution_count": 50,
   "id": "148d90e1-b060-4a96-8c47-a9394bda2660",
   "metadata": {},
   "outputs": [
    {
     "data": {
      "text/plain": [
       "['sudh', 'kmumar', 'abc']"
      ]
     },
     "execution_count": 50,
     "metadata": {},
     "output_type": "execute_result"
    }
   ],
   "source": [
    "l7_number"
   ]
  },
  {
   "cell_type": "code",
   "execution_count": 51,
   "id": "ed3c8c26-1e17-4de8-ad09-45d57a29c0e3",
   "metadata": {},
   "outputs": [],
   "source": [
    "l6_number.insert(1,\"sumit\")"
   ]
  },
  {
   "cell_type": "code",
   "execution_count": 52,
   "id": "54fac954-373c-4f27-9691-0f02fb8e3498",
   "metadata": {},
   "outputs": [
    {
     "data": {
      "text/plain": [
       "[1, 'sumit', 2, 3, 4, 4, 324, 34.456]"
      ]
     },
     "execution_count": 52,
     "metadata": {},
     "output_type": "execute_result"
    }
   ],
   "source": [
    "l6_number"
   ]
  },
  {
   "cell_type": "code",
   "execution_count": 53,
   "id": "e4772488-56be-4c3c-89c8-ab95d13146cb",
   "metadata": {},
   "outputs": [
    {
     "data": {
      "text/plain": [
       "2"
      ]
     },
     "execution_count": 53,
     "metadata": {},
     "output_type": "execute_result"
    }
   ],
   "source": [
    "l6_number.count(4)"
   ]
  },
  {
   "cell_type": "code",
   "execution_count": 55,
   "id": "8df6b939-44eb-4761-bf22-7e6eec144bf9",
   "metadata": {},
   "outputs": [],
   "source": [
    "l6_number.extend(\"marathi\")"
   ]
  },
  {
   "cell_type": "code",
   "execution_count": 56,
   "id": "3c0eaaf8-6a34-42a2-b8ce-7f82f2c996ed",
   "metadata": {},
   "outputs": [
    {
     "data": {
      "text/plain": [
       "[1, 'sumit', 2, 3, 4, 4, 324, 34.456, 'm', 'a', 'r', 'a', 't', 'h', 'i']"
      ]
     },
     "execution_count": 56,
     "metadata": {},
     "output_type": "execute_result"
    }
   ],
   "source": [
    "l6_number"
   ]
  },
  {
   "cell_type": "code",
   "execution_count": 57,
   "id": "6c75a724-7322-4778-bd1f-870c6eedb890",
   "metadata": {},
   "outputs": [],
   "source": [
    "l6_number.append(\"bhai\")"
   ]
  },
  {
   "cell_type": "code",
   "execution_count": 58,
   "id": "2b8fa4b7-f8ca-4f7b-b3a3-343fe16715ea",
   "metadata": {},
   "outputs": [
    {
     "data": {
      "text/plain": [
       "[1,\n",
       " 'sumit',\n",
       " 2,\n",
       " 3,\n",
       " 4,\n",
       " 4,\n",
       " 324,\n",
       " 34.456,\n",
       " 'm',\n",
       " 'a',\n",
       " 'r',\n",
       " 'a',\n",
       " 't',\n",
       " 'h',\n",
       " 'i',\n",
       " 'bhai']"
      ]
     },
     "execution_count": 58,
     "metadata": {},
     "output_type": "execute_result"
    }
   ],
   "source": [
    "l6_number"
   ]
  },
  {
   "cell_type": "code",
   "execution_count": 59,
   "id": "610ade51-3665-4150-a04a-ed5912bb3d02",
   "metadata": {},
   "outputs": [
    {
     "name": "stdout",
     "output_type": "stream",
     "text": [
      "[1, 'sumit', 2, 3, 4, 4, 324, 34.456, 'm', 'a', 'r', 'a', 't', 'h', 'i', 'bhai']\n"
     ]
    }
   ],
   "source": [
    "print(l6_number)"
   ]
  },
  {
   "cell_type": "code",
   "execution_count": 61,
   "id": "6029ae7c-4a19-47d2-bbdd-79eaf4f0d28d",
   "metadata": {},
   "outputs": [],
   "source": [
    "l6_number.remove(\"m\")"
   ]
  },
  {
   "cell_type": "code",
   "execution_count": 62,
   "id": "b0fac5df-f37b-4195-9f0f-d1cc6be4422f",
   "metadata": {},
   "outputs": [
    {
     "data": {
      "text/plain": [
       "15"
      ]
     },
     "execution_count": 62,
     "metadata": {},
     "output_type": "execute_result"
    }
   ],
   "source": [
    "len(l6_number)"
   ]
  },
  {
   "cell_type": "code",
   "execution_count": 63,
   "id": "9ca48a27-24be-49c2-8e5b-86ecbb910877",
   "metadata": {},
   "outputs": [
    {
     "data": {
      "text/plain": [
       "['r', 'a', 't', 'h', 'i']"
      ]
     },
     "execution_count": 63,
     "metadata": {},
     "output_type": "execute_result"
    }
   ],
   "source": [
    "l6_number[9:14]"
   ]
  },
  {
   "cell_type": "code",
   "execution_count": 66,
   "id": "210508ef-11ee-4d56-8cf4-65b7a722818b",
   "metadata": {},
   "outputs": [
    {
     "data": {
      "text/plain": [
       "'bhai'"
      ]
     },
     "execution_count": 66,
     "metadata": {},
     "output_type": "execute_result"
    }
   ],
   "source": [
    "l6_number.pop(14)"
   ]
  },
  {
   "cell_type": "code",
   "execution_count": null,
   "id": "e45e3370-2f99-43a9-af93-214fbda1c891",
   "metadata": {},
   "outputs": [],
   "source": [
    "[] - list\n",
    "() - tuple\n",
    "{} - with flat element set \n",
    "{} - with key value pair dict"
   ]
  }
 ],
 "metadata": {
  "kernelspec": {
   "display_name": "Python 3 (ipykernel)",
   "language": "python",
   "name": "python3"
  },
  "language_info": {
   "codemirror_mode": {
    "name": "ipython",
    "version": 3
   },
   "file_extension": ".py",
   "mimetype": "text/x-python",
   "name": "python",
   "nbconvert_exporter": "python",
   "pygments_lexer": "ipython3",
   "version": "3.10.8"
  }
 },
 "nbformat": 4,
 "nbformat_minor": 5
}
