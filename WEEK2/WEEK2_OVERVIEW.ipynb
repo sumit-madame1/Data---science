{
 "cells": [
  {
   "cell_type": "code",
   "execution_count": 1,
   "id": "7a545429-5763-4a79-a7f0-2ceee1d87d56",
   "metadata": {},
   "outputs": [
    {
     "data": {
      "text/plain": [
       "'SUMITMADAME'"
      ]
     },
     "execution_count": 1,
     "metadata": {},
     "output_type": "execute_result"
    }
   ],
   "source": [
    "S=\"SUMITMADAME\"\n",
    "\n",
    "S[0:11]"
   ]
  },
  {
   "cell_type": "code",
   "execution_count": 2,
   "id": "dfd6e00d-dd31-48dd-80e4-a0bcf64f10b2",
   "metadata": {},
   "outputs": [
    {
     "data": {
      "text/plain": [
       "'SMTAAE'"
      ]
     },
     "execution_count": 2,
     "metadata": {},
     "output_type": "execute_result"
    }
   ],
   "source": [
    "S[::2]   #THIS IS SLICING TECHNIQ"
   ]
  },
  {
   "cell_type": "code",
   "execution_count": 3,
   "id": "6ed0acb5-b13b-47e3-b40a-ac1d46b7cb76",
   "metadata": {},
   "outputs": [
    {
     "data": {
      "text/plain": [
       "'S'"
      ]
     },
     "execution_count": 3,
     "metadata": {},
     "output_type": "execute_result"
    }
   ],
   "source": [
    "S[0:1]"
   ]
  },
  {
   "cell_type": "code",
   "execution_count": 5,
   "id": "cf70e62b-05fa-4374-9c39-6326b81c03e8",
   "metadata": {},
   "outputs": [
    {
     "data": {
      "text/plain": [
       "'SMTA'"
      ]
     },
     "execution_count": 5,
     "metadata": {},
     "output_type": "execute_result"
    }
   ],
   "source": [
    "S[0:8:2]"
   ]
  },
  {
   "cell_type": "code",
   "execution_count": 6,
   "id": "7ce760f8-9bf9-4819-9a8c-4defd9246232",
   "metadata": {},
   "outputs": [
    {
     "data": {
      "text/plain": [
       "'PKL'"
      ]
     },
     "execution_count": 6,
     "metadata": {},
     "output_type": "execute_result"
    }
   ],
   "source": [
    "S= \"PWSKILLS\"\n",
    "\n",
    "S[0:8:3]"
   ]
  },
  {
   "cell_type": "code",
   "execution_count": 10,
   "id": "4682e175-1781-489a-946c-f27e0060e6dd",
   "metadata": {},
   "outputs": [
    {
     "data": {
      "text/plain": [
       "'PSIL'"
      ]
     },
     "execution_count": 10,
     "metadata": {},
     "output_type": "execute_result"
    }
   ],
   "source": [
    "S[0::2]  "
   ]
  },
  {
   "cell_type": "code",
   "execution_count": 11,
   "id": "7209b719-2cf4-4c1f-81d8-50eb6e3c56b6",
   "metadata": {},
   "outputs": [
    {
     "data": {
      "text/plain": [
       "'SIL'"
      ]
     },
     "execution_count": 11,
     "metadata": {},
     "output_type": "execute_result"
    }
   ],
   "source": [
    "S[2::2]"
   ]
  },
  {
   "cell_type": "code",
   "execution_count": 13,
   "id": "f76d7094-49c2-441a-a735-6245dd98f707",
   "metadata": {},
   "outputs": [
    {
     "data": {
      "text/plain": [
       "-1"
      ]
     },
     "execution_count": 13,
     "metadata": {},
     "output_type": "execute_result"
    }
   ],
   "source": [
    "S1=\"I LOVE MY INDIA\"\n",
    "\n",
    "S.find(\"MY\")"
   ]
  },
  {
   "cell_type": "code",
   "execution_count": 14,
   "id": "21ba8ad0-abef-4ca1-b396-c4f0fd1188d8",
   "metadata": {},
   "outputs": [
    {
     "data": {
      "text/plain": [
       "15"
      ]
     },
     "execution_count": 14,
     "metadata": {},
     "output_type": "execute_result"
    }
   ],
   "source": [
    "len(S1)"
   ]
  },
  {
   "cell_type": "code",
   "execution_count": 17,
   "id": "44ac1254-65bb-44a3-91a6-7f26a5256af0",
   "metadata": {},
   "outputs": [
    {
     "data": {
      "text/plain": [
       "-1"
      ]
     },
     "execution_count": 17,
     "metadata": {},
     "output_type": "execute_result"
    }
   ],
   "source": [
    "S1.find('m')"
   ]
  },
  {
   "cell_type": "code",
   "execution_count": 20,
   "id": "cb8011d8-f64e-47b0-b5f3-c7b81503d479",
   "metadata": {},
   "outputs": [
    {
     "data": {
      "text/plain": [
       "1"
      ]
     },
     "execution_count": 20,
     "metadata": {},
     "output_type": "execute_result"
    }
   ],
   "source": [
    "S1.count('A')"
   ]
  },
  {
   "cell_type": "code",
   "execution_count": 21,
   "id": "b612a267-dfcf-4ca3-868a-9748dece1c72",
   "metadata": {},
   "outputs": [
    {
     "data": {
      "text/plain": [
       "'I LOVE MY INDIA'"
      ]
     },
     "execution_count": 21,
     "metadata": {},
     "output_type": "execute_result"
    }
   ],
   "source": [
    "S1.upper()"
   ]
  },
  {
   "cell_type": "code",
   "execution_count": 22,
   "id": "1ed8844a-d746-4cf2-987f-f18602528a6d",
   "metadata": {},
   "outputs": [
    {
     "data": {
      "text/plain": [
       "'i love my india'"
      ]
     },
     "execution_count": 22,
     "metadata": {},
     "output_type": "execute_result"
    }
   ],
   "source": [
    "S1.lower()"
   ]
  },
  {
   "cell_type": "code",
   "execution_count": 23,
   "id": "cd172107-192c-45d3-bf85-326220389c5c",
   "metadata": {},
   "outputs": [
    {
     "data": {
      "text/plain": [
       "'I Love My India'"
      ]
     },
     "execution_count": 23,
     "metadata": {},
     "output_type": "execute_result"
    }
   ],
   "source": [
    "S1.title()"
   ]
  },
  {
   "cell_type": "code",
   "execution_count": 24,
   "id": "913ebf23-3006-4e09-ad01-8c01233d60d9",
   "metadata": {},
   "outputs": [
    {
     "data": {
      "text/plain": [
       "'I love my india'"
      ]
     },
     "execution_count": 24,
     "metadata": {},
     "output_type": "execute_result"
    }
   ],
   "source": [
    "S1.capitalize()"
   ]
  },
  {
   "cell_type": "code",
   "execution_count": 28,
   "id": "4919faee-ff49-4044-a148-8064874e47cd",
   "metadata": {},
   "outputs": [
    {
     "data": {
      "text/plain": [
       "'I LOVE MY INDIA----->sumit'"
      ]
     },
     "execution_count": 28,
     "metadata": {},
     "output_type": "execute_result"
    }
   ],
   "source": [
    "S1 +'----->sumit'\n"
   ]
  },
  {
   "cell_type": "code",
   "execution_count": 29,
   "id": "502153eb-788d-487c-936f-92b6202e0fd0",
   "metadata": {},
   "outputs": [
    {
     "data": {
      "text/plain": [
       "'I LOVE MY INDIAI LOVE MY INDIAI LOVE MY INDIAI LOVE MY INDIA'"
      ]
     },
     "execution_count": 29,
     "metadata": {},
     "output_type": "execute_result"
    }
   ],
   "source": [
    "S1*4"
   ]
  },
  {
   "cell_type": "code",
   "execution_count": null,
   "id": "88e3d46d-3c92-4a9b-a287-8aa4c37859d3",
   "metadata": {},
   "outputs": [],
   "source": []
  }
 ],
 "metadata": {
  "kernelspec": {
   "display_name": "Python 3 (ipykernel)",
   "language": "python",
   "name": "python3"
  },
  "language_info": {
   "codemirror_mode": {
    "name": "ipython",
    "version": 3
   },
   "file_extension": ".py",
   "mimetype": "text/x-python",
   "name": "python",
   "nbconvert_exporter": "python",
   "pygments_lexer": "ipython3",
   "version": "3.10.8"
  }
 },
 "nbformat": 4,
 "nbformat_minor": 5
}
