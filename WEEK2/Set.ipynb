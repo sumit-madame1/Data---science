{
 "cells": [
  {
   "cell_type": "raw",
   "id": "665a79ec-b570-440f-91d0-db3cfcc79014",
   "metadata": {},
   "source": [
    "NOW WE ARE GOING TO LEARINING SET OPERATIONS IN PYHTON \n",
    "# SET\n",
    "SET SUPPORT ONLY IMMUTABLE DATA AND WE USED SET FOR A REMOVE DUPLICICY FROM THE GIVEN SET \n",
    "\n",
    "#set is the collection of diffrent data type which is know as also collections\n",
    "\n",
    "#set never arrange an data  it is unorder\n",
    "\n",
    "#it doest support slicing\n",
    "#index is also not support it support hasing \n"
   ]
  },
  {
   "cell_type": "code",
   "execution_count": 3,
   "id": "a916621a-007c-4d89-bf79-91fda47e7d2e",
   "metadata": {},
   "outputs": [
    {
     "data": {
      "text/plain": [
       "dict"
      ]
     },
     "execution_count": 3,
     "metadata": {},
     "output_type": "execute_result"
    }
   ],
   "source": [
    "S1={}\n",
    "type(S1)"
   ]
  },
  {
   "cell_type": "code",
   "execution_count": 4,
   "id": "743542fc-8bbc-4ab4-aa98-005e6075015d",
   "metadata": {},
   "outputs": [
    {
     "data": {
      "text/plain": [
       "set"
      ]
     },
     "execution_count": 4,
     "metadata": {},
     "output_type": "execute_result"
    }
   ],
   "source": [
    "\n",
    "\n",
    "S= {1,2,3,4,33,333,5,4,3,2,1,\"sumit\",\"SUMIT\"}\n",
    "\n",
    "type(S)\n",
    "\n",
    "\n"
   ]
  },
  {
   "cell_type": "code",
   "execution_count": 5,
   "id": "9a026fa9-5909-4dc8-a3ce-fe5b23925f7b",
   "metadata": {},
   "outputs": [
    {
     "name": "stdout",
     "output_type": "stream",
     "text": [
      "{1, 2, 3, 4, 33, 5, 333, 'SUMIT', 'sumit'}\n"
     ]
    }
   ],
   "source": [
    "print(S)"
   ]
  },
  {
   "cell_type": "code",
   "execution_count": 6,
   "id": "2178d8c1-6156-4bd2-8683-0ba0be31c382",
   "metadata": {},
   "outputs": [
    {
     "name": "stdout",
     "output_type": "stream",
     "text": [
      "[1, 2, 3, 4, 5, 5, 6, 7, 7, 8]\n"
     ]
    }
   ],
   "source": [
    "S3=[1,2,3,4,5,5,6,7,7,8]\n",
    "print(S3)"
   ]
  },
  {
   "cell_type": "code",
   "execution_count": 8,
   "id": "0df3f361-ef6d-4891-8740-ecfaac796bbd",
   "metadata": {},
   "outputs": [],
   "source": [
    "S3=list(set(S3))"
   ]
  },
  {
   "cell_type": "code",
   "execution_count": 9,
   "id": "260d98e5-d429-473c-987c-cc702c25dfbc",
   "metadata": {},
   "outputs": [
    {
     "data": {
      "text/plain": [
       "[1, 2, 3, 4, 5, 6, 7, 8]"
      ]
     },
     "execution_count": 9,
     "metadata": {},
     "output_type": "execute_result"
    }
   ],
   "source": [
    "S3"
   ]
  },
  {
   "cell_type": "code",
   "execution_count": 10,
   "id": "d68a8003-865c-4ccb-98e2-6831da16e08f",
   "metadata": {},
   "outputs": [
    {
     "data": {
      "text/plain": [
       "{1, 2, 3, 33, 333, 4, 5, 'SUMIT', 'sumit'}"
      ]
     },
     "execution_count": 10,
     "metadata": {},
     "output_type": "execute_result"
    }
   ],
   "source": [
    "S"
   ]
  },
  {
   "cell_type": "code",
   "execution_count": 11,
   "id": "fb14e832-973e-41de-8fff-eea6b9b4b7e6",
   "metadata": {},
   "outputs": [],
   "source": [
    "S.add(786)"
   ]
  },
  {
   "cell_type": "code",
   "execution_count": 12,
   "id": "fcb9d8cf-dc1a-4340-a7c3-ee95e204e949",
   "metadata": {},
   "outputs": [
    {
     "data": {
      "text/plain": [
       "{1, 2, 3, 33, 333, 4, 5, 786, 'SUMIT', 'sumit'}"
      ]
     },
     "execution_count": 12,
     "metadata": {},
     "output_type": "execute_result"
    }
   ],
   "source": [
    "S"
   ]
  },
  {
   "cell_type": "code",
   "execution_count": 13,
   "id": "6cb5ae7a-84c6-4095-8657-d590b9008fcd",
   "metadata": {},
   "outputs": [],
   "source": [
    "S.remove(2)"
   ]
  },
  {
   "cell_type": "code",
   "execution_count": 14,
   "id": "8713cabd-2341-4a93-ae3c-25b465c02cdc",
   "metadata": {},
   "outputs": [
    {
     "data": {
      "text/plain": [
       "{1, 3, 33, 333, 4, 5, 786, 'SUMIT', 'sumit'}"
      ]
     },
     "execution_count": 14,
     "metadata": {},
     "output_type": "execute_result"
    }
   ],
   "source": [
    "S"
   ]
  },
  {
   "cell_type": "code",
   "execution_count": null,
   "id": "8805d18b-120a-4d97-85e4-cda71c3a5110",
   "metadata": {},
   "outputs": [],
   "source": []
  },
  {
   "cell_type": "code",
   "execution_count": null,
   "id": "4bca56f6-85bd-424e-a97f-8cd8f29cea59",
   "metadata": {},
   "outputs": [],
   "source": [
    "\n"
   ]
  },
  {
   "cell_type": "code",
   "execution_count": null,
   "id": "7bfe8567-f850-4caa-8fdc-85be1d12535d",
   "metadata": {},
   "outputs": [],
   "source": []
  },
  {
   "cell_type": "code",
   "execution_count": null,
   "id": "5913ae02-2972-4255-9524-0b9fa1438d4b",
   "metadata": {},
   "outputs": [],
   "source": []
  }
 ],
 "metadata": {
  "kernelspec": {
   "display_name": "Python 3 (ipykernel)",
   "language": "python",
   "name": "python3"
  },
  "language_info": {
   "codemirror_mode": {
    "name": "ipython",
    "version": 3
   },
   "file_extension": ".py",
   "mimetype": "text/x-python",
   "name": "python",
   "nbconvert_exporter": "python",
   "pygments_lexer": "ipython3",
   "version": "3.10.8"
  }
 },
 "nbformat": 4,
 "nbformat_minor": 5
}
