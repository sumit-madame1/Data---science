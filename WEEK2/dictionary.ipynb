{
 "cells": [
  {
   "cell_type": "code",
   "execution_count": null,
   "id": "06c1abec-c1e3-4175-a59b-b771476f7a25",
   "metadata": {},
   "outputs": [],
   "source": [
    "\"\"\"\n",
    "#Dictionary\n",
    "#key should be always uniqe \n",
    "#key cant be special charachter\n",
    "#syntax:-\n",
    "thisdict = {\n",
    "  \"brand\": \"Ford\",\n",
    "  \"model\": \"Mustang\",\n",
    "  \"year\": 1964\n",
    "}\n",
    "Dictionaries are used to store data values in key:value pairs.\n",
    "\n",
    "A dictionary is a collection which is ordered*, changeable and do not allow duplicates.\"\"\""
   ]
  },
  {
   "cell_type": "code",
   "execution_count": 1,
   "id": "6af0a381-996f-4da3-9edf-d96c7fa4a182",
   "metadata": {},
   "outputs": [
    {
     "data": {
      "text/plain": [
       "dict"
      ]
     },
     "execution_count": 1,
     "metadata": {},
     "output_type": "execute_result"
    }
   ],
   "source": [
    "\n",
    "\n",
    "d={}\n",
    "type(d)"
   ]
  },
  {
   "cell_type": "code",
   "execution_count": 2,
   "id": "5f59b641-2ded-4c67-9bd4-74673af96468",
   "metadata": {},
   "outputs": [],
   "source": [
    "d={'name': \"sumit\",'mobile_number':7447642447,'Gmail':\"sm@gmail.com\",'dob':\"25-june-2001\"}"
   ]
  },
  {
   "cell_type": "code",
   "execution_count": 3,
   "id": "b8e1be55-4b63-48f9-9770-e1e7290ff91e",
   "metadata": {},
   "outputs": [
    {
     "data": {
      "text/plain": [
       "dict"
      ]
     },
     "execution_count": 3,
     "metadata": {},
     "output_type": "execute_result"
    }
   ],
   "source": [
    "type(d)"
   ]
  },
  {
   "cell_type": "code",
   "execution_count": 8,
   "id": "50f12074-8710-4ea9-a04c-b2d9238f3d65",
   "metadata": {},
   "outputs": [
    {
     "data": {
      "text/plain": [
       "'sumit'"
      ]
     },
     "execution_count": 8,
     "metadata": {},
     "output_type": "execute_result"
    }
   ],
   "source": [
    "d['name'] \n"
   ]
  },
  {
   "cell_type": "code",
   "execution_count": 7,
   "id": "99162464-d3d3-4367-b6cf-97ba9f75f1aa",
   "metadata": {},
   "outputs": [
    {
     "data": {
      "text/plain": [
       "7447642447"
      ]
     },
     "execution_count": 7,
     "metadata": {},
     "output_type": "execute_result"
    }
   ],
   "source": [
    "d['mobile_number']"
   ]
  },
  {
   "cell_type": "code",
   "execution_count": 9,
   "id": "446fdfaf-550c-4bbf-8b02-bbe1dd6fbf0b",
   "metadata": {},
   "outputs": [],
   "source": [
    "d4 = {'name':\"sudh\" , 'mail_id' :\"ss@gmail.com\" ,\"name\":\"sudhanshu\"} #it provide uniqe and updated value to the dictionary"
   ]
  },
  {
   "cell_type": "code",
   "execution_count": 10,
   "id": "fefe92cb-2c1c-4af7-b279-1b95aea8d9a2",
   "metadata": {},
   "outputs": [
    {
     "data": {
      "text/plain": [
       "'sudhanshu'"
      ]
     },
     "execution_count": 10,
     "metadata": {},
     "output_type": "execute_result"
    }
   ],
   "source": [
    "d4['name']"
   ]
  },
  {
   "cell_type": "code",
   "execution_count": 13,
   "id": "0c809b6a-10ca-4a16-b50a-da6368568919",
   "metadata": {},
   "outputs": [],
   "source": [
    "d5={'company': 'wipro','skills':['c++','java','pyhton','dsa']}"
   ]
  },
  {
   "cell_type": "code",
   "execution_count": 14,
   "id": "9f2ec3c1-0a96-454c-b8aa-4e437b1e3f20",
   "metadata": {},
   "outputs": [
    {
     "data": {
      "text/plain": [
       "{'company': 'wipro', 'skills': ['c++', 'java', 'pyhton', 'dsa']}"
      ]
     },
     "execution_count": 14,
     "metadata": {},
     "output_type": "execute_result"
    }
   ],
   "source": [
    "d5"
   ]
  },
  {
   "cell_type": "code",
   "execution_count": 19,
   "id": "80cba4c0-a140-478b-b78b-9d4cae356891",
   "metadata": {},
   "outputs": [
    {
     "data": {
      "text/plain": [
       "['c++', 'java', 'pyhton']"
      ]
     },
     "execution_count": 19,
     "metadata": {},
     "output_type": "execute_result"
    }
   ],
   "source": [
    "d5[\"skills\"][0:3]"
   ]
  },
  {
   "cell_type": "code",
   "execution_count": 24,
   "id": "79ba9781-0988-47e3-a3c4-85f656dfb589",
   "metadata": {},
   "outputs": [],
   "source": [
    "d7={'numbers':[1,2,3,4],'city':('goa','pune','mumbai','nashik'),'set':{1,2,3,4,5,6},\"class_time\":{\"web_dev\": 8 , \"Data science masters\" : 8 , \"java with dsa and system design\":7}}"
   ]
  },
  {
   "cell_type": "code",
   "execution_count": 25,
   "id": "e4ad82d4-087f-4724-a66c-b1b71ef5d952",
   "metadata": {},
   "outputs": [
    {
     "data": {
      "text/plain": [
       "{'numbers': [1, 2, 3, 4],\n",
       " 'city': ('goa', 'pune', 'mumbai', 'nashik'),\n",
       " 'set': {1, 2, 3, 4, 5, 6},\n",
       " 'class_time': {'web_dev': 8,\n",
       "  'Data science masters': 8,\n",
       "  'java with dsa and system design': 7}}"
      ]
     },
     "execution_count": 25,
     "metadata": {},
     "output_type": "execute_result"
    }
   ],
   "source": [
    "d7"
   ]
  },
  {
   "cell_type": "code",
   "execution_count": 26,
   "id": "2b73884a-c053-4ee7-ac37-7271d7949cf7",
   "metadata": {},
   "outputs": [
    {
     "data": {
      "text/plain": [
       "{'web_dev': 8, 'Data science masters': 8, 'java with dsa and system design': 7}"
      ]
     },
     "execution_count": 26,
     "metadata": {},
     "output_type": "execute_result"
    }
   ],
   "source": [
    "d7['class_time']"
   ]
  },
  {
   "cell_type": "code",
   "execution_count": 27,
   "id": "70399df1-d3e8-405f-8ddc-a26ec758eed2",
   "metadata": {},
   "outputs": [
    {
     "data": {
      "text/plain": [
       "7"
      ]
     },
     "execution_count": 27,
     "metadata": {},
     "output_type": "execute_result"
    }
   ],
   "source": [
    "d7['class_time']['java with dsa and system design']"
   ]
  },
  {
   "cell_type": "code",
   "execution_count": 28,
   "id": "6dfb1f26-8ee9-474d-8061-4b855968ef16",
   "metadata": {},
   "outputs": [],
   "source": [
    "d7['teacher']=[\"sumit\",\"ram\",\"tanmay\"]  #added one more key in the dictionary with the help of assignmeant but key should be unique"
   ]
  },
  {
   "cell_type": "code",
   "execution_count": 29,
   "id": "ed9d0dcb-c6c2-4353-b8c2-e812cb860f0f",
   "metadata": {},
   "outputs": [
    {
     "data": {
      "text/plain": [
       "{'numbers': [1, 2, 3, 4],\n",
       " 'city': ('goa', 'pune', 'mumbai', 'nashik'),\n",
       " 'set': {1, 2, 3, 4, 5, 6},\n",
       " 'class_time': {'web_dev': 8,\n",
       "  'Data science masters': 8,\n",
       "  'java with dsa and system design': 7},\n",
       " 'teacher': ['sumit', 'ram', 'tanmay']}"
      ]
     },
     "execution_count": 29,
     "metadata": {},
     "output_type": "execute_result"
    }
   ],
   "source": [
    "d7"
   ]
  },
  {
   "cell_type": "code",
   "execution_count": 31,
   "id": "151d7288-530e-41e7-b22a-c71f198a74bf",
   "metadata": {},
   "outputs": [],
   "source": [
    "del d7['numbers']"
   ]
  },
  {
   "cell_type": "code",
   "execution_count": 32,
   "id": "efd9f39e-d227-4782-9db1-7e0cd562100d",
   "metadata": {},
   "outputs": [
    {
     "data": {
      "text/plain": [
       "{'city': ('goa', 'pune', 'mumbai', 'nashik'),\n",
       " 'set': {1, 2, 3, 4, 5, 6},\n",
       " 'class_time': {'web_dev': 8,\n",
       "  'Data science masters': 8,\n",
       "  'java with dsa and system design': 7},\n",
       " 'teacher': ['sumit', 'ram', 'tanmay']}"
      ]
     },
     "execution_count": 32,
     "metadata": {},
     "output_type": "execute_result"
    }
   ],
   "source": [
    "d7"
   ]
  },
  {
   "cell_type": "code",
   "execution_count": 33,
   "id": "84d98401-fb11-4d10-95a0-a405d21ba817",
   "metadata": {},
   "outputs": [
    {
     "data": {
      "text/plain": [
       "dict_values([('goa', 'pune', 'mumbai', 'nashik'), {1, 2, 3, 4, 5, 6}, {'web_dev': 8, 'Data science masters': 8, 'java with dsa and system design': 7}, ['sumit', 'ram', 'tanmay']])"
      ]
     },
     "execution_count": 33,
     "metadata": {},
     "output_type": "execute_result"
    }
   ],
   "source": [
    "d7.values()"
   ]
  },
  {
   "cell_type": "code",
   "execution_count": 35,
   "id": "775663c1-50af-42a8-b529-505945da5e09",
   "metadata": {},
   "outputs": [
    {
     "data": {
      "text/plain": [
       "dict_keys(['city', 'set', 'class_time', 'teacher'])"
      ]
     },
     "execution_count": 35,
     "metadata": {},
     "output_type": "execute_result"
    }
   ],
   "source": [
    "d7.keys()"
   ]
  },
  {
   "cell_type": "code",
   "execution_count": 37,
   "id": "37d07c93-4f26-4239-8275-059c3207d30e",
   "metadata": {},
   "outputs": [
    {
     "data": {
      "text/plain": [
       "dict_items([('city', ('goa', 'pune', 'mumbai', 'nashik')), ('set', {1, 2, 3, 4, 5, 6}), ('class_time', {'web_dev': 8, 'Data science masters': 8, 'java with dsa and system design': 7}), ('teacher', ['sumit', 'ram', 'tanmay'])])"
      ]
     },
     "execution_count": 37,
     "metadata": {},
     "output_type": "execute_result"
    }
   ],
   "source": [
    "d7.items()"
   ]
  },
  {
   "cell_type": "markdown",
   "id": "7b2ed127-bda0-4234-8af9-b3f129e697a4",
   "metadata": {},
   "source": [
    "if i want in all list formate\n"
   ]
  },
  {
   "cell_type": "code",
   "execution_count": 38,
   "id": "1401e0f6-8b13-4617-b0a4-55e42714b6a9",
   "metadata": {},
   "outputs": [
    {
     "data": {
      "text/plain": [
       "[('goa', 'pune', 'mumbai', 'nashik'),\n",
       " {1, 2, 3, 4, 5, 6},\n",
       " {'web_dev': 8,\n",
       "  'Data science masters': 8,\n",
       "  'java with dsa and system design': 7},\n",
       " ['sumit', 'ram', 'tanmay']]"
      ]
     },
     "execution_count": 38,
     "metadata": {},
     "output_type": "execute_result"
    }
   ],
   "source": [
    "list(d7.values())"
   ]
  },
  {
   "cell_type": "code",
   "execution_count": 39,
   "id": "2581fcb4-633a-4b1b-8fa4-63b3ff8e68ad",
   "metadata": {},
   "outputs": [
    {
     "data": {
      "text/plain": [
       "['city', 'set', 'class_time', 'teacher']"
      ]
     },
     "execution_count": 39,
     "metadata": {},
     "output_type": "execute_result"
    }
   ],
   "source": [
    "list(d7.keys())"
   ]
  },
  {
   "cell_type": "code",
   "execution_count": 40,
   "id": "9422080a-6f82-4a18-8c1d-6b4c6a222744",
   "metadata": {},
   "outputs": [
    {
     "data": {
      "text/plain": [
       "[('city', ('goa', 'pune', 'mumbai', 'nashik')),\n",
       " ('set', {1, 2, 3, 4, 5, 6}),\n",
       " ('class_time',\n",
       "  {'web_dev': 8,\n",
       "   'Data science masters': 8,\n",
       "   'java with dsa and system design': 7}),\n",
       " ('teacher', ['sumit', 'ram', 'tanmay'])]"
      ]
     },
     "execution_count": 40,
     "metadata": {},
     "output_type": "execute_result"
    }
   ],
   "source": [
    "list(d7.items())"
   ]
  },
  {
   "cell_type": "code",
   "execution_count": 41,
   "id": "1d9b12a8-791f-49c5-a415-b2b0b054b601",
   "metadata": {},
   "outputs": [
    {
     "data": {
      "text/plain": [
       "{1, 2, 3, 4, 5, 6}"
      ]
     },
     "execution_count": 41,
     "metadata": {},
     "output_type": "execute_result"
    }
   ],
   "source": [
    "d7.pop('set')"
   ]
  },
  {
   "cell_type": "code",
   "execution_count": 43,
   "id": "ad14be87-995f-4e64-b3e5-893cd558dae6",
   "metadata": {},
   "outputs": [
    {
     "ename": "KeyError",
     "evalue": "'set'",
     "output_type": "error",
     "traceback": [
      "\u001b[0;31m---------------------------------------------------------------------------\u001b[0m",
      "\u001b[0;31mKeyError\u001b[0m                                  Traceback (most recent call last)",
      "Cell \u001b[0;32mIn[43], line 1\u001b[0m\n\u001b[0;32m----> 1\u001b[0m \u001b[38;5;28mlist\u001b[39m(\u001b[43md7\u001b[49m\u001b[38;5;241;43m.\u001b[39;49m\u001b[43mpop\u001b[49m\u001b[43m(\u001b[49m\u001b[38;5;124;43m'\u001b[39;49m\u001b[38;5;124;43mset\u001b[39;49m\u001b[38;5;124;43m'\u001b[39;49m\u001b[43m)\u001b[49m)\n",
      "\u001b[0;31mKeyError\u001b[0m: 'set'"
     ]
    }
   ],
   "source": [
    "list(d7.pop('set'))"
   ]
  },
  {
   "cell_type": "code",
   "execution_count": null,
   "id": "2bfc295b-7acb-40ed-8daa-a834f87c4567",
   "metadata": {},
   "outputs": [],
   "source": []
  }
 ],
 "metadata": {
  "kernelspec": {
   "display_name": "Python 3 (ipykernel)",
   "language": "python",
   "name": "python3"
  },
  "language_info": {
   "codemirror_mode": {
    "name": "ipython",
    "version": 3
   },
   "file_extension": ".py",
   "mimetype": "text/x-python",
   "name": "python",
   "nbconvert_exporter": "python",
   "pygments_lexer": "ipython3",
   "version": "3.10.8"
  }
 },
 "nbformat": 4,
 "nbformat_minor": 5
}
