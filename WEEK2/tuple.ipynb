{
 "cells": [
  {
   "cell_type": "code",
   "execution_count": 1,
   "id": "fdd8c491-61f9-471b-b29f-99bddc910a18",
   "metadata": {},
   "outputs": [],
   "source": [
    "t =(1,2,3,4,5,55,67,\"SUMIT_MADAME\",'A',20+30J,3330.45,True,[20,30,56])"
   ]
  },
  {
   "cell_type": "code",
   "execution_count": 2,
   "id": "288e06ea-b875-4d00-82aa-55e7eae05429",
   "metadata": {},
   "outputs": [
    {
     "data": {
      "text/plain": [
       "(1,\n",
       " 2,\n",
       " 3,\n",
       " 4,\n",
       " 5,\n",
       " 55,\n",
       " 67,\n",
       " 'SUMIT_MADAME',\n",
       " 'A',\n",
       " (20+30j),\n",
       " 3330.45,\n",
       " True,\n",
       " [20, 30, 56])"
      ]
     },
     "execution_count": 2,
     "metadata": {},
     "output_type": "execute_result"
    }
   ],
   "source": [
    "t"
   ]
  },
  {
   "cell_type": "code",
   "execution_count": 3,
   "id": "76e22397-3e80-4d00-b167-4f5d6056383b",
   "metadata": {},
   "outputs": [
    {
     "data": {
      "text/plain": [
       "tuple"
      ]
     },
     "execution_count": 3,
     "metadata": {},
     "output_type": "execute_result"
    }
   ],
   "source": [
    "type(t)"
   ]
  },
  {
   "cell_type": "code",
   "execution_count": 4,
   "id": "667145b2-70cd-491a-be51-7b82965870b1",
   "metadata": {},
   "outputs": [
    {
     "name": "stdout",
     "output_type": "stream",
     "text": [
      "(1, 2, 3, 4, 5, 55, 67, 'SUMIT_MADAME', 'A', (20+30j), 3330.45, True, [20, 30, 56])\n"
     ]
    }
   ],
   "source": [
    "print(t)"
   ]
  },
  {
   "cell_type": "code",
   "execution_count": 6,
   "id": "78168450-2722-4560-90b0-c25b433fec4b",
   "metadata": {},
   "outputs": [
    {
     "data": {
      "text/plain": [
       "13"
      ]
     },
     "execution_count": 6,
     "metadata": {},
     "output_type": "execute_result"
    }
   ],
   "source": [
    "len(t)"
   ]
  },
  {
   "cell_type": "code",
   "execution_count": 7,
   "id": "c887bee8-a373-4758-ba49-a40065889682",
   "metadata": {},
   "outputs": [
    {
     "data": {
      "text/plain": [
       "4"
      ]
     },
     "execution_count": 7,
     "metadata": {},
     "output_type": "execute_result"
    }
   ],
   "source": [
    "t[3]"
   ]
  },
  {
   "cell_type": "code",
   "execution_count": 8,
   "id": "944f71a6-814e-4214-ae30-4549845251cb",
   "metadata": {},
   "outputs": [
    {
     "data": {
      "text/plain": [
       "([20, 30, 56],\n",
       " True,\n",
       " 3330.45,\n",
       " (20+30j),\n",
       " 'A',\n",
       " 'SUMIT_MADAME',\n",
       " 67,\n",
       " 55,\n",
       " 5,\n",
       " 4,\n",
       " 3,\n",
       " 2,\n",
       " 1)"
      ]
     },
     "execution_count": 8,
     "metadata": {},
     "output_type": "execute_result"
    }
   ],
   "source": [
    "t[::-1]"
   ]
  },
  {
   "cell_type": "code",
   "execution_count": 9,
   "id": "eb721fc9-1d8c-411d-87ef-49e32d8c0a2d",
   "metadata": {},
   "outputs": [
    {
     "name": "stdout",
     "output_type": "stream",
     "text": [
      "([20, 30, 56], True, 3330.45, (20+30j), 'A', 'SUMIT_MADAME', 67, 55, 5, 4, 3, 2, 1)\n"
     ]
    }
   ],
   "source": [
    "print(t[::-1])"
   ]
  },
  {
   "cell_type": "code",
   "execution_count": 10,
   "id": "959bf8b6-831d-42d7-804b-a231da2d59c4",
   "metadata": {},
   "outputs": [
    {
     "data": {
      "text/plain": [
       "['sumit', 'ram', 'tanmay']"
      ]
     },
     "execution_count": 10,
     "metadata": {},
     "output_type": "execute_result"
    }
   ],
   "source": [
    "l2=[\"sumit\",\"ram\",\"tanmay\"]   #list is mutable \n",
    "\n",
    "l2"
   ]
  },
  {
   "cell_type": "code",
   "execution_count": 11,
   "id": "38afc73a-ecbf-4412-8243-8d348ec091f6",
   "metadata": {},
   "outputs": [],
   "source": [
    "l2[1] = 1010"
   ]
  },
  {
   "cell_type": "code",
   "execution_count": 12,
   "id": "535cb8b8-e04d-4980-8aa1-6b593509e01d",
   "metadata": {},
   "outputs": [
    {
     "data": {
      "text/plain": [
       "['sumit', 1010, 'tanmay']"
      ]
     },
     "execution_count": 12,
     "metadata": {},
     "output_type": "execute_result"
    }
   ],
   "source": [
    "l2"
   ]
  },
  {
   "cell_type": "code",
   "execution_count": 21,
   "id": "e028dff1-8ca6-49cc-b5be-3f5b609f7aa8",
   "metadata": {},
   "outputs": [
    {
     "ename": "ValueError",
     "evalue": "tuple.index(x): x not in tuple",
     "output_type": "error",
     "traceback": [
      "\u001b[0;31m---------------------------------------------------------------------------\u001b[0m",
      "\u001b[0;31mValueError\u001b[0m                                Traceback (most recent call last)",
      "Cell \u001b[0;32mIn[21], line 1\u001b[0m\n\u001b[0;32m----> 1\u001b[0m \u001b[43mt\u001b[49m\u001b[38;5;241;43m.\u001b[39;49m\u001b[43mindex\u001b[49m\u001b[43m(\u001b[49m\u001b[38;5;241;43m30\u001b[39;49m\u001b[43m)\u001b[49m\n",
      "\u001b[0;31mValueError\u001b[0m: tuple.index(x): x not in tuple"
     ]
    }
   ],
   "source": [
    "t.index(30)"
   ]
  },
  {
   "cell_type": "code",
   "execution_count": 22,
   "id": "22ad25d0-5832-4771-90e4-b2212f6f8603",
   "metadata": {},
   "outputs": [
    {
     "data": {
      "text/plain": [
       "1"
      ]
     },
     "execution_count": 22,
     "metadata": {},
     "output_type": "execute_result"
    }
   ],
   "source": [
    "t.count('A')"
   ]
  },
  {
   "cell_type": "code",
   "execution_count": 20,
   "id": "710f897b-9684-46a1-9f3e-568249622aeb",
   "metadata": {},
   "outputs": [
    {
     "data": {
      "text/plain": [
       "([20, 30, 56],\n",
       " True,\n",
       " 3330.45,\n",
       " (20+30j),\n",
       " 'A',\n",
       " 'SUMIT_MADAME',\n",
       " 67,\n",
       " 55,\n",
       " 5,\n",
       " 4,\n",
       " 3,\n",
       " 2,\n",
       " 1)"
      ]
     },
     "execution_count": 20,
     "metadata": {},
     "output_type": "execute_result"
    }
   ],
   "source": [
    "t[::-1]"
   ]
  },
  {
   "cell_type": "code",
   "execution_count": null,
   "id": "655f085c-074b-438d-ad3c-c691ea226b11",
   "metadata": {},
   "outputs": [],
   "source": []
  }
 ],
 "metadata": {
  "kernelspec": {
   "display_name": "Python 3 (ipykernel)",
   "language": "python",
   "name": "python3"
  },
  "language_info": {
   "codemirror_mode": {
    "name": "ipython",
    "version": 3
   },
   "file_extension": ".py",
   "mimetype": "text/x-python",
   "name": "python",
   "nbconvert_exporter": "python",
   "pygments_lexer": "ipython3",
   "version": "3.10.8"
  }
 },
 "nbformat": 4,
 "nbformat_minor": 5
}
