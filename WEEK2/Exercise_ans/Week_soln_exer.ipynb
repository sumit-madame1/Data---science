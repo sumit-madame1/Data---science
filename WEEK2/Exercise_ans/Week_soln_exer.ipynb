{
 "cells": [
  {
   "cell_type": "markdown",
   "id": "83746aeb-7b10-494b-b61b-569e4eea24c7",
   "metadata": {},
   "source": [
    "# Q1. How do you comment code in Python? What are the different types of comments?\n",
    "\"\"\"\n",
    "Ans:- For single line comment we use #\n",
    "      For multiple line comment we use \"\"\"    \"\"\"\n",
    "      \n",
    "      \"\"\"\n",
    "\n",
    "# Q2. What are variables in Python? How do you declare and assign values to variables?\n",
    "\n",
    "\"\"\"\n",
    "Ans:-In a python we dont need to assign datatype ,python is very advance its understand self\n",
    "\n",
    " and we assign the varible like this:\n",
    " \n",
    " n=3\n",
    " \n",
    " n  ----> n is the varible name\n",
    "  \n",
    " =  -----> this is the assign operator which is used to pass the value to varible\n",
    " \n",
    " 3 is the varible value, a number which will go to the n (to the varible)\n",
    " \n",
    " \n",
    " \n",
    " \n",
    " "
   ]
  },
  {
   "cell_type": "code",
   "execution_count": 4,
   "id": "e6245b5e-69a6-41ca-a89b-dc1a33559987",
   "metadata": {},
   "outputs": [],
   "source": [
    "# Q3. How do you convert one data type to another in Python?\n",
    "\n",
    "\"\"\" Ans:- For that we used type casting to covert one data type to another \"\"\"\n",
    "\n",
    "n = 30.0\n",
    "\n",
    "s=int(n)\n",
    "\n",
    "#here i converted float to int"
   ]
  },
  {
   "cell_type": "code",
   "execution_count": 5,
   "id": "ffa33049-0cdc-4b29-9056-c9349715c9bd",
   "metadata": {},
   "outputs": [
    {
     "data": {
      "text/plain": [
       "30"
      ]
     },
     "execution_count": 5,
     "metadata": {},
     "output_type": "execute_result"
    }
   ],
   "source": [
    "s"
   ]
  },
  {
   "cell_type": "code",
   "execution_count": null,
   "id": "30ccb259-e17d-4174-aa80-f8a1eeb7bdf2",
   "metadata": {},
   "outputs": [],
   "source": [
    "# Q4. How do you write and execute a Python script from the command line?\n",
    "Ans:- As we know python is a platform independent lang\n",
    "\"\"\"\n",
    "1)first we have install python latest version and \n",
    "2) After that we can used any text editor and write the once \n",
    "just we have to save our file as .py extension\n",
    "\n",
    "\"\"\"\n",
    "#for example \n",
    "\"\"\"\n",
    "s=\"Hello World ! \"\n",
    "sumit.py\n",
    "Hello World!\n",
    "\n",
    "\"\"\""
   ]
  },
  {
   "cell_type": "code",
   "execution_count": 7,
   "id": "03288c75-267f-4e89-8dd1-76dfb550cc83",
   "metadata": {},
   "outputs": [
    {
     "data": {
      "text/plain": [
       "[2, 3]"
      ]
     },
     "execution_count": 7,
     "metadata": {},
     "output_type": "execute_result"
    }
   ],
   "source": [
    "#Q5. Given a list my_list = [1, 2, 3, 4, 5], write the code to slice the list and obtain the sub-list [2, 3].\n",
    "\n",
    "my_list=[1,2,3,4,5]\n",
    "\n",
    "my_list[1:3]"
   ]
  },
  {
   "cell_type": "code",
   "execution_count": 16,
   "id": "7106c0cf-f8ec-4d64-a266-3181dc483e33",
   "metadata": {},
   "outputs": [
    {
     "name": "stdout",
     "output_type": "stream",
     "text": [
      "<class 'complex'>\n"
     ]
    },
    {
     "data": {
      "text/plain": [
       "30.0"
      ]
     },
     "execution_count": 16,
     "metadata": {},
     "output_type": "execute_result"
    }
   ],
   "source": [
    "#Q6. What is a complex number in mathematics, and how is it represented in Python?\n",
    "\"\"\"\n",
    "Ans:-\n",
    "Complex numbers are the numbers that are expressed in the form of a+ib where, a,b are real numbers and 'i' is \n",
    "an imaginary number called “iota”.\n",
    "\n",
    "\"\"\"\n",
    "#code\n",
    "n= 20+30j\n",
    "print(type(n))\n",
    "n.real\n",
    "n.imag"
   ]
  },
  {
   "cell_type": "code",
   "execution_count": 17,
   "id": "a8b2f5bd-1c74-40a1-867e-a5debaa51719",
   "metadata": {},
   "outputs": [
    {
     "name": "stdout",
     "output_type": "stream",
     "text": [
      "25\n"
     ]
    }
   ],
   "source": [
    "#Q7. What is the correct way to declare a variable named age and assign the value 25 to it?\n",
    "\n",
    "Age = 25\n",
    "\n",
    "print(Age)"
   ]
  },
  {
   "cell_type": "code",
   "execution_count": 19,
   "id": "52496f6a-324e-411d-9bac-f3c106045704",
   "metadata": {},
   "outputs": [
    {
     "name": "stdout",
     "output_type": "stream",
     "text": [
      "<class 'float'>\n",
      "9.99\n"
     ]
    }
   ],
   "source": [
    "#Q8. Declare a variable named price and assign the value 9.99 to it. What data type does this variable belong to?\n",
    "\n",
    "price = 9.99 \n",
    "\n",
    "print(type(price))\n",
    "print(price)\n"
   ]
  },
  {
   "cell_type": "code",
   "execution_count": 22,
   "id": "908e0a92-3ad0-45ab-89bc-9f5abba6cbc0",
   "metadata": {},
   "outputs": [
    {
     "name": "stdout",
     "output_type": "stream",
     "text": [
      "sumit_ramkrushna_madame\n"
     ]
    }
   ],
   "source": [
    "#Q9. Create a variable named name and assign your full name to it as a string. How would you print the value of this variable?\n",
    "\n",
    "name ='sumit_ramkrushna_madame'\n",
    "\n",
    "print(name)\n"
   ]
  },
  {
   "cell_type": "code",
   "execution_count": 29,
   "id": "ac4f37cc-2c95-41bd-98dc-744467c3dade",
   "metadata": {},
   "outputs": [
    {
     "data": {
      "text/plain": [
       "' World'"
      ]
     },
     "execution_count": 29,
     "metadata": {},
     "output_type": "execute_result"
    }
   ],
   "source": [
    "# Q10. Given the string \"Hello, World!\", extract the substring \"World\".\n",
    "\n",
    "s= \"Hello, World!\"\n",
    "s[6:-1]\n"
   ]
  },
  {
   "cell_type": "code",
   "execution_count": 30,
   "id": "90011418-c089-4537-9096-f462c2fe92b3",
   "metadata": {},
   "outputs": [
    {
     "name": "stdout",
     "output_type": "stream",
     "text": [
      "True\n"
     ]
    }
   ],
   "source": [
    "#Q11. Create a variable named \"is_student\" and assign it a boolean value indicating whether you are currently a student or not.\n",
    "\n",
    "is_student = True\n",
    "\n",
    "print(is_student)"
   ]
  },
  {
   "cell_type": "code",
   "execution_count": null,
   "id": "7945a02f-b472-468d-b086-97b4c4c41336",
   "metadata": {},
   "outputs": [],
   "source": []
  }
 ],
 "metadata": {
  "kernelspec": {
   "display_name": "Python 3 (ipykernel)",
   "language": "python",
   "name": "python3"
  },
  "language_info": {
   "codemirror_mode": {
    "name": "ipython",
    "version": 3
   },
   "file_extension": ".py",
   "mimetype": "text/x-python",
   "name": "python",
   "nbconvert_exporter": "python",
   "pygments_lexer": "ipython3",
   "version": "3.10.8"
  }
 },
 "nbformat": 4,
 "nbformat_minor": 5
}
