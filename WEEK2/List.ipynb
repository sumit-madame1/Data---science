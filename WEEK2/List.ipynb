{
 "cells": [
  {
   "cell_type": "code",
   "execution_count": 1,
   "id": "59424afe-cb1b-482e-ab8b-173de866100c",
   "metadata": {},
   "outputs": [
    {
     "data": {
      "text/plain": [
       "[450.9, (20+30j), True, 'ok', 'sumit', 67, 45, 23, 1]"
      ]
     },
     "execution_count": 1,
     "metadata": {},
     "output_type": "execute_result"
    }
   ],
   "source": [
    "\"\"\" This is for list tuple dictionary \"\"\"\n",
    "\n",
    "l =[1,23,45,67,\"sumit\",\"ok\",True,20+30j,450.90]\n",
    "\n",
    "l[::-1]\n",
    "\n"
   ]
  },
  {
   "cell_type": "code",
   "execution_count": 2,
   "id": "b3c8498f-d6b4-45c4-8dfc-41e915b85806",
   "metadata": {},
   "outputs": [
    {
     "data": {
      "text/plain": [
       "'timus'"
      ]
     },
     "execution_count": 2,
     "metadata": {},
     "output_type": "execute_result"
    }
   ],
   "source": [
    "s= 'sumit'\n",
    "\n",
    "s[::-1]"
   ]
  },
  {
   "cell_type": "code",
   "execution_count": 6,
   "id": "becf2af4-5692-48ac-971c-97e80dcda30c",
   "metadata": {},
   "outputs": [
    {
     "data": {
      "text/plain": [
       "[1, 23, 45, 67]"
      ]
     },
     "execution_count": 6,
     "metadata": {},
     "output_type": "execute_result"
    }
   ],
   "source": [
    "l[0:4]"
   ]
  },
  {
   "cell_type": "code",
   "execution_count": 7,
   "id": "f9bff0f4-21d2-494d-8f13-ed659da0659e",
   "metadata": {},
   "outputs": [
    {
     "data": {
      "text/plain": [
       "450.9"
      ]
     },
     "execution_count": 7,
     "metadata": {},
     "output_type": "execute_result"
    }
   ],
   "source": [
    "l[-1]"
   ]
  },
  {
   "cell_type": "code",
   "execution_count": 9,
   "id": "7e7c40ae-a015-4cb3-94e7-cbc994a3ab0b",
   "metadata": {},
   "outputs": [
    {
     "data": {
      "text/plain": [
       "[1, 45, 'sumit', True, 450.9]"
      ]
     },
     "execution_count": 9,
     "metadata": {},
     "output_type": "execute_result"
    }
   ],
   "source": [
    "l[::2]"
   ]
  },
  {
   "cell_type": "code",
   "execution_count": 10,
   "id": "4c6183d8-1c62-46e3-b386-b6f1204ac31a",
   "metadata": {},
   "outputs": [
    {
     "data": {
      "text/plain": [
       "45"
      ]
     },
     "execution_count": 10,
     "metadata": {},
     "output_type": "execute_result"
    }
   ],
   "source": [
    "l[2]"
   ]
  },
  {
   "cell_type": "code",
   "execution_count": 11,
   "id": "073a6e82-c829-4cdf-a293-2563c339282e",
   "metadata": {},
   "outputs": [
    {
     "data": {
      "text/plain": [
       "'sumit'"
      ]
     },
     "execution_count": 11,
     "metadata": {},
     "output_type": "execute_result"
    }
   ],
   "source": [
    "l[4]"
   ]
  },
  {
   "cell_type": "code",
   "execution_count": 12,
   "id": "c0f5f0d3-5c23-4519-a7b3-75766b7c47da",
   "metadata": {},
   "outputs": [
    {
     "data": {
      "text/plain": [
       "'sum'"
      ]
     },
     "execution_count": 12,
     "metadata": {},
     "output_type": "execute_result"
    }
   ],
   "source": [
    "l[4][0:3]"
   ]
  },
  {
   "cell_type": "code",
   "execution_count": 13,
   "id": "a1b4a8b1-d5dc-4a7f-b3fb-d68b0f87668e",
   "metadata": {},
   "outputs": [
    {
     "data": {
      "text/plain": [
       "[1, 23, 45, 67, 'sumit', 'ok', True, (20+30j), 450.9]"
      ]
     },
     "execution_count": 13,
     "metadata": {},
     "output_type": "execute_result"
    }
   ],
   "source": [
    "l\n"
   ]
  },
  {
   "cell_type": "code",
   "execution_count": 14,
   "id": "7114f78f-fbcf-4eed-9dbc-21b63107b5db",
   "metadata": {},
   "outputs": [
    {
     "data": {
      "text/plain": [
       "'sumit'"
      ]
     },
     "execution_count": 14,
     "metadata": {},
     "output_type": "execute_result"
    }
   ],
   "source": [
    "s"
   ]
  },
  {
   "cell_type": "code",
   "execution_count": 15,
   "id": "cb502767-2a7e-4204-8703-bc436fac1e08",
   "metadata": {},
   "outputs": [],
   "source": [
    "l.append(s)"
   ]
  },
  {
   "cell_type": "code",
   "execution_count": 16,
   "id": "8f1fac7e-a1b1-4acb-a9f7-b4b624812c2d",
   "metadata": {},
   "outputs": [
    {
     "data": {
      "text/plain": [
       "True"
      ]
     },
     "execution_count": 16,
     "metadata": {},
     "output_type": "execute_result"
    }
   ],
   "source": [
    "l[6]"
   ]
  },
  {
   "cell_type": "code",
   "execution_count": 17,
   "id": "f4a0b3a8-3d12-476b-86a0-acc99b8148c0",
   "metadata": {},
   "outputs": [
    {
     "data": {
      "text/plain": [
       "'Tr'"
      ]
     },
     "execution_count": 17,
     "metadata": {},
     "output_type": "execute_result"
    }
   ],
   "source": [
    "str(l[6])[0:2]# we did with the help of type casting but it would be not booleans"
   ]
  },
  {
   "cell_type": "code",
   "execution_count": 18,
   "id": "9b28c108-bade-40be-a204-ab312e3b3efe",
   "metadata": {},
   "outputs": [
    {
     "data": {
      "text/plain": [
       "[1, 23, 45, 67, 'sumit', 'ok', True, (20+30j), 450.9, 'sumit', 45, 55555, 6544]"
      ]
     },
     "execution_count": 18,
     "metadata": {},
     "output_type": "execute_result"
    }
   ],
   "source": [
    "l1=[45,55555,6544]\n",
    "\n",
    "l+l1"
   ]
  },
  {
   "cell_type": "code",
   "execution_count": 19,
   "id": "ec2a0357-f05b-464f-b4c2-8206d9664700",
   "metadata": {},
   "outputs": [
    {
     "data": {
      "text/plain": [
       "[45, 55555, 6544, 45, 55555, 6544, 45, 55555, 6544]"
      ]
     },
     "execution_count": 19,
     "metadata": {},
     "output_type": "execute_result"
    }
   ],
   "source": [
    "l1*3"
   ]
  },
  {
   "cell_type": "code",
   "execution_count": 20,
   "id": "7ee4a72f-8865-4440-8bdb-737d6f890739",
   "metadata": {},
   "outputs": [
    {
     "data": {
      "text/plain": [
       "10"
      ]
     },
     "execution_count": 20,
     "metadata": {},
     "output_type": "execute_result"
    }
   ],
   "source": [
    "len(l)"
   ]
  },
  {
   "cell_type": "code",
   "execution_count": 21,
   "id": "ec76fb5e-a69b-4ba1-87a4-6f10a480d0fc",
   "metadata": {},
   "outputs": [],
   "source": [
    "l1.append(s)"
   ]
  },
  {
   "cell_type": "code",
   "execution_count": 22,
   "id": "0865611d-fdf4-4780-b684-3cda3db81b6e",
   "metadata": {},
   "outputs": [
    {
     "data": {
      "text/plain": [
       "[45, 55555, 6544, 'sumit']"
      ]
     },
     "execution_count": 22,
     "metadata": {},
     "output_type": "execute_result"
    }
   ],
   "source": [
    "l1\n"
   ]
  },
  {
   "cell_type": "code",
   "execution_count": 23,
   "id": "b2a7b444-ecef-4304-bf14-4c07e8f2cb23",
   "metadata": {},
   "outputs": [],
   "source": [
    "l1.append(55)"
   ]
  },
  {
   "cell_type": "code",
   "execution_count": 24,
   "id": "442e9d12-d7c3-4708-be3d-7b0e98e2804f",
   "metadata": {},
   "outputs": [
    {
     "data": {
      "text/plain": [
       "[45, 55555, 6544, 'sumit', 55]"
      ]
     },
     "execution_count": 24,
     "metadata": {},
     "output_type": "execute_result"
    }
   ],
   "source": [
    "l1"
   ]
  },
  {
   "cell_type": "code",
   "execution_count": 25,
   "id": "0cf49246-b4e6-424d-9171-c207fa99c192",
   "metadata": {},
   "outputs": [],
   "source": [
    "l.append(l1)"
   ]
  },
  {
   "cell_type": "code",
   "execution_count": 26,
   "id": "08d3cffe-bf82-4c10-8062-0229b71c38a7",
   "metadata": {},
   "outputs": [
    {
     "data": {
      "text/plain": [
       "[1,\n",
       " 23,\n",
       " 45,\n",
       " 67,\n",
       " 'sumit',\n",
       " 'ok',\n",
       " True,\n",
       " (20+30j),\n",
       " 450.9,\n",
       " 'sumit',\n",
       " [45, 55555, 6544, 'sumit', 55]]"
      ]
     },
     "execution_count": 26,
     "metadata": {},
     "output_type": "execute_result"
    }
   ],
   "source": [
    "l"
   ]
  },
  {
   "cell_type": "code",
   "execution_count": 27,
   "id": "abff6fd6-83b7-4b92-8524-8a89e2b6f2f5",
   "metadata": {},
   "outputs": [
    {
     "name": "stdout",
     "output_type": "stream",
     "text": [
      "[1, 23, 45, 67, 'sumit', 'ok', True, (20+30j), 450.9, 'sumit', [45, 55555, 6544, 'sumit', 55]]\n"
     ]
    }
   ],
   "source": [
    "print(l)"
   ]
  },
  {
   "cell_type": "code",
   "execution_count": 28,
   "id": "f281145a-1815-420b-8ef3-bfce058d03ed",
   "metadata": {},
   "outputs": [
    {
     "data": {
      "text/plain": [
       "[45, 55555, 6544, 'sumit', 55]"
      ]
     },
     "execution_count": 28,
     "metadata": {},
     "output_type": "execute_result"
    }
   ],
   "source": [
    "l[-1]\n"
   ]
  },
  {
   "cell_type": "code",
   "execution_count": 29,
   "id": "13890504-44f2-4692-ac3a-791233095b80",
   "metadata": {},
   "outputs": [
    {
     "data": {
      "text/plain": [
       "55555"
      ]
     },
     "execution_count": 29,
     "metadata": {},
     "output_type": "execute_result"
    }
   ],
   "source": [
    "l[-1][1]"
   ]
  },
  {
   "cell_type": "code",
   "execution_count": 30,
   "id": "e6d091df-ac39-4fe2-86cd-459169a270ff",
   "metadata": {},
   "outputs": [],
   "source": [
    "l.insert(2,\"sumit tu gaya ab second par with the help of inset futn\")"
   ]
  },
  {
   "cell_type": "code",
   "execution_count": 31,
   "id": "83c520fc-8a65-4507-94d4-d5e51e568b6b",
   "metadata": {},
   "outputs": [
    {
     "data": {
      "text/plain": [
       "[1,\n",
       " 23,\n",
       " 'sumit tu gaya ab second par with the help of inset futn',\n",
       " 45,\n",
       " 67,\n",
       " 'sumit',\n",
       " 'ok',\n",
       " True,\n",
       " (20+30j),\n",
       " 450.9,\n",
       " 'sumit',\n",
       " [45, 55555, 6544, 'sumit', 55]]"
      ]
     },
     "execution_count": 31,
     "metadata": {},
     "output_type": "execute_result"
    }
   ],
   "source": [
    "l"
   ]
  },
  {
   "cell_type": "code",
   "execution_count": 32,
   "id": "9f21e703-3983-45cc-bf20-9710a5d9f8dd",
   "metadata": {},
   "outputs": [
    {
     "name": "stdout",
     "output_type": "stream",
     "text": [
      "[1, 23, 'sumit tu gaya ab second par with the help of inset futn', 45, 67, 'sumit', 'ok', True, (20+30j), 450.9, 'sumit', [45, 55555, 6544, 'sumit', 55]]\n"
     ]
    }
   ],
   "source": [
    "print(l)"
   ]
  },
  {
   "cell_type": "code",
   "execution_count": 33,
   "id": "0c11b1b6-ca5d-4aa9-899e-df8bc4a5bdb5",
   "metadata": {},
   "outputs": [
    {
     "data": {
      "text/plain": [
       "[45, 55555, 6544, 'sumit', 55]"
      ]
     },
     "execution_count": 33,
     "metadata": {},
     "output_type": "execute_result"
    }
   ],
   "source": [
    "l1\n"
   ]
  },
  {
   "cell_type": "code",
   "execution_count": 34,
   "id": "25c8a301-2c38-4465-a5eb-23ccd31289ef",
   "metadata": {},
   "outputs": [],
   "source": [
    "l1.insert(-1,66)"
   ]
  },
  {
   "cell_type": "code",
   "execution_count": 35,
   "id": "f83c5301-885c-440b-b41c-1bda71eede74",
   "metadata": {},
   "outputs": [
    {
     "data": {
      "text/plain": [
       "[45, 55555, 6544, 'sumit', 66, 55]"
      ]
     },
     "execution_count": 35,
     "metadata": {},
     "output_type": "execute_result"
    }
   ],
   "source": [
    "l1"
   ]
  },
  {
   "cell_type": "code",
   "execution_count": 38,
   "id": "f32e2b18-bb7a-41cc-abb5-076672f66500",
   "metadata": {},
   "outputs": [],
   "source": [
    "l1.insert(0,101.99)"
   ]
  },
  {
   "cell_type": "code",
   "execution_count": 39,
   "id": "185aa8cd-f989-4b8e-84f5-3bfe28c9c557",
   "metadata": {},
   "outputs": [
    {
     "data": {
      "text/plain": [
       "[101.99, 45, 55555, 6544, 'sumit', 66, 55]"
      ]
     },
     "execution_count": 39,
     "metadata": {},
     "output_type": "execute_result"
    }
   ],
   "source": [
    "l1"
   ]
  },
  {
   "cell_type": "code",
   "execution_count": 40,
   "id": "29fa02b8-94e9-4ef7-964a-b4a835f64ff0",
   "metadata": {},
   "outputs": [
    {
     "data": {
      "text/plain": [
       "55555"
      ]
     },
     "execution_count": 40,
     "metadata": {},
     "output_type": "execute_result"
    }
   ],
   "source": [
    "l1.pop(2)"
   ]
  },
  {
   "cell_type": "code",
   "execution_count": 41,
   "id": "ca5110d9-ad00-4188-9e3c-7af77afb31f6",
   "metadata": {},
   "outputs": [
    {
     "data": {
      "text/plain": [
       "[101.99, 45, 6544, 'sumit', 66, 55]"
      ]
     },
     "execution_count": 41,
     "metadata": {},
     "output_type": "execute_result"
    }
   ],
   "source": [
    "l1"
   ]
  },
  {
   "cell_type": "code",
   "execution_count": 42,
   "id": "7a9366c2-6d06-409b-baff-4aef9a85fc40",
   "metadata": {},
   "outputs": [
    {
     "data": {
      "text/plain": [
       "55"
      ]
     },
     "execution_count": 42,
     "metadata": {},
     "output_type": "execute_result"
    }
   ],
   "source": [
    "l1.pop()"
   ]
  },
  {
   "cell_type": "code",
   "execution_count": 43,
   "id": "6bf2f902-d60f-4dc4-a867-ca262709d667",
   "metadata": {},
   "outputs": [
    {
     "data": {
      "text/plain": [
       "[101.99, 45, 6544, 'sumit', 66]"
      ]
     },
     "execution_count": 43,
     "metadata": {},
     "output_type": "execute_result"
    }
   ],
   "source": [
    "l1"
   ]
  },
  {
   "cell_type": "code",
   "execution_count": 44,
   "id": "884d547d-ae7a-40ba-8515-9df336d565f3",
   "metadata": {},
   "outputs": [],
   "source": [
    "l1.remove(45)"
   ]
  },
  {
   "cell_type": "code",
   "execution_count": 45,
   "id": "b7e03b31-5e69-44bd-9678-566506a87a24",
   "metadata": {},
   "outputs": [
    {
     "data": {
      "text/plain": [
       "[101.99, 6544, 'sumit', 66]"
      ]
     },
     "execution_count": 45,
     "metadata": {},
     "output_type": "execute_result"
    }
   ],
   "source": [
    "l1"
   ]
  },
  {
   "cell_type": "code",
   "execution_count": 47,
   "id": "b4be8f95-15b6-4bee-b2b0-fa773febe159",
   "metadata": {},
   "outputs": [],
   "source": [
    "l1.reverse()#this futn reverse permanately"
   ]
  },
  {
   "cell_type": "code",
   "execution_count": 48,
   "id": "6e07f285-012e-4b20-a62e-59be046d9e18",
   "metadata": {},
   "outputs": [
    {
     "data": {
      "text/plain": [
       "[66, 'sumit', 6544, 101.99]"
      ]
     },
     "execution_count": 48,
     "metadata": {},
     "output_type": "execute_result"
    }
   ],
   "source": [
    "l1"
   ]
  },
  {
   "cell_type": "code",
   "execution_count": 49,
   "id": "a32d5e18-3aad-4339-8b0c-e8160c6a28b4",
   "metadata": {},
   "outputs": [],
   "source": [
    "l2=[10,23,34]"
   ]
  },
  {
   "cell_type": "code",
   "execution_count": 50,
   "id": "2ef6a306-ce39-49fe-a791-4b7213970503",
   "metadata": {},
   "outputs": [
    {
     "data": {
      "text/plain": [
       "[10, 23, 34]"
      ]
     },
     "execution_count": 50,
     "metadata": {},
     "output_type": "execute_result"
    }
   ],
   "source": [
    "l2"
   ]
  },
  {
   "cell_type": "code",
   "execution_count": 51,
   "id": "fd023c69-5342-400c-b3dc-2299da1a48a3",
   "metadata": {},
   "outputs": [],
   "source": [
    "l1.append(l2)"
   ]
  },
  {
   "cell_type": "code",
   "execution_count": 52,
   "id": "f10f4ed8-2926-4fbe-adfe-584d156d7be1",
   "metadata": {},
   "outputs": [
    {
     "data": {
      "text/plain": [
       "[66, 'sumit', 6544, 101.99, [10, 23, 34]]"
      ]
     },
     "execution_count": 52,
     "metadata": {},
     "output_type": "execute_result"
    }
   ],
   "source": [
    "l1"
   ]
  },
  {
   "cell_type": "markdown",
   "id": "3d3a538f-b13d-42b7-84e7-0ac49032d827",
   "metadata": {},
   "source": [
    "Now i have to attend remove 23 from the list with the list funtion\n"
   ]
  },
  {
   "cell_type": "code",
   "execution_count": 57,
   "id": "63604e73-31e5-4f96-8878-5ca7a8979524",
   "metadata": {},
   "outputs": [],
   "source": [
    "l1[4].remove(23)"
   ]
  },
  {
   "cell_type": "code",
   "execution_count": 58,
   "id": "b411a965-e098-4f4e-bb2b-65eefd5b48d7",
   "metadata": {},
   "outputs": [
    {
     "data": {
      "text/plain": [
       "[66, 'sumit', 6544, 101.99, [10, 34]]"
      ]
     },
     "execution_count": 58,
     "metadata": {},
     "output_type": "execute_result"
    }
   ],
   "source": [
    "l1"
   ]
  },
  {
   "cell_type": "code",
   "execution_count": 60,
   "id": "ee332ea4-ffa8-4323-b4a4-e768f6b034d5",
   "metadata": {},
   "outputs": [
    {
     "data": {
      "text/plain": [
       "[[10, 34], 101.99, 6544, 'sumit', 66]"
      ]
     },
     "execution_count": 60,
     "metadata": {},
     "output_type": "execute_result"
    }
   ],
   "source": [
    "l1[::-1]"
   ]
  },
  {
   "cell_type": "code",
   "execution_count": 61,
   "id": "82e04cc1-11a5-47c1-958c-1c7bb711a95f",
   "metadata": {},
   "outputs": [],
   "source": [
    "l1 = l1[::-1]  #this  we can used instead of reverse futn"
   ]
  },
  {
   "cell_type": "code",
   "execution_count": 62,
   "id": "c88a8369-2965-4853-85d5-1e583e1dc347",
   "metadata": {},
   "outputs": [
    {
     "data": {
      "text/plain": [
       "[[10, 34], 101.99, 6544, 'sumit', 66]"
      ]
     },
     "execution_count": 62,
     "metadata": {},
     "output_type": "execute_result"
    }
   ],
   "source": [
    "l1"
   ]
  },
  {
   "cell_type": "code",
   "execution_count": 63,
   "id": "d909329a-3839-454f-9d93-25560595d4d0",
   "metadata": {},
   "outputs": [],
   "source": [
    "l3=[20,40,44,444.565,0,98]\n"
   ]
  },
  {
   "cell_type": "code",
   "execution_count": 65,
   "id": "83f7d6a2-d2d5-4b95-8d2e-5d819a2b1235",
   "metadata": {},
   "outputs": [],
   "source": [
    "l3.sort()"
   ]
  },
  {
   "cell_type": "code",
   "execution_count": 66,
   "id": "871e42d9-ffb3-40c0-9b6b-8ce86bb01545",
   "metadata": {},
   "outputs": [
    {
     "data": {
      "text/plain": [
       "[0, 20, 40, 44, 98, 444.565]"
      ]
     },
     "execution_count": 66,
     "metadata": {},
     "output_type": "execute_result"
    }
   ],
   "source": [
    "l3"
   ]
  },
  {
   "cell_type": "code",
   "execution_count": 67,
   "id": "4544e235-c605-4b8f-97e1-426ca778b5c8",
   "metadata": {},
   "outputs": [],
   "source": [
    "l2.sort()"
   ]
  },
  {
   "cell_type": "code",
   "execution_count": 68,
   "id": "2a064180-fdd0-4cf3-98c9-c9f9eef18f98",
   "metadata": {},
   "outputs": [
    {
     "data": {
      "text/plain": [
       "[10, 34]"
      ]
     },
     "execution_count": 68,
     "metadata": {},
     "output_type": "execute_result"
    }
   ],
   "source": [
    "l2 # it has been providing permanat address"
   ]
  },
  {
   "cell_type": "code",
   "execution_count": 69,
   "id": "530fae2f-dad7-4f14-b672-d6662bd836bb",
   "metadata": {},
   "outputs": [
    {
     "ename": "TypeError",
     "evalue": "'<' not supported between instances of 'float' and 'list'",
     "output_type": "error",
     "traceback": [
      "\u001b[0;31m---------------------------------------------------------------------------\u001b[0m",
      "\u001b[0;31mTypeError\u001b[0m                                 Traceback (most recent call last)",
      "Cell \u001b[0;32mIn[69], line 1\u001b[0m\n\u001b[0;32m----> 1\u001b[0m \u001b[43ml1\u001b[49m\u001b[38;5;241;43m.\u001b[39;49m\u001b[43msort\u001b[49m\u001b[43m(\u001b[49m\u001b[43m)\u001b[49m\n",
      "\u001b[0;31mTypeError\u001b[0m: '<' not supported between instances of 'float' and 'list'"
     ]
    }
   ],
   "source": [
    "l1.sort() # only we can sort only on same data type\n"
   ]
  },
  {
   "cell_type": "code",
   "execution_count": 70,
   "id": "a81e7a81-e40e-4319-ab4e-2f6d0d983218",
   "metadata": {},
   "outputs": [],
   "source": [
    "l4=['sumit','ram','tanmay','shrikant']\n"
   ]
  },
  {
   "cell_type": "code",
   "execution_count": 71,
   "id": "ede7d523-27a8-4b8a-9022-d862a2259658",
   "metadata": {},
   "outputs": [],
   "source": [
    "l4.sort()"
   ]
  },
  {
   "cell_type": "code",
   "execution_count": 72,
   "id": "76766724-1553-4e66-a1f3-f0cc8f756769",
   "metadata": {},
   "outputs": [
    {
     "data": {
      "text/plain": [
       "['ram', 'shrikant', 'sumit', 'tanmay']"
      ]
     },
     "execution_count": 72,
     "metadata": {},
     "output_type": "execute_result"
    }
   ],
   "source": [
    "l4"
   ]
  },
  {
   "cell_type": "code",
   "execution_count": 73,
   "id": "0d568823-b02c-4dfa-8699-4fd040ae91c4",
   "metadata": {},
   "outputs": [
    {
     "data": {
      "text/plain": [
       "2"
      ]
     },
     "execution_count": 73,
     "metadata": {},
     "output_type": "execute_result"
    }
   ],
   "source": [
    "l4.index('sumit')"
   ]
  },
  {
   "cell_type": "code",
   "execution_count": 76,
   "id": "5ed86c37-eb23-42eb-b803-f4484d5cbac5",
   "metadata": {},
   "outputs": [
    {
     "data": {
      "text/plain": [
       "1"
      ]
     },
     "execution_count": 76,
     "metadata": {},
     "output_type": "execute_result"
    }
   ],
   "source": [
    "l4.count('sumit')"
   ]
  },
  {
   "cell_type": "code",
   "execution_count": 77,
   "id": "9b50202d-4edf-4938-ae4a-c80c6581d66e",
   "metadata": {},
   "outputs": [],
   "source": [
    "s=\"sumi_madame\""
   ]
  },
  {
   "cell_type": "code",
   "execution_count": 78,
   "id": "8ec904f7-03ad-4d2a-9547-cb5e96e4f3ac",
   "metadata": {},
   "outputs": [
    {
     "data": {
      "text/plain": [
       "'sumi_madame'"
      ]
     },
     "execution_count": 78,
     "metadata": {},
     "output_type": "execute_result"
    }
   ],
   "source": [
    "s"
   ]
  },
  {
   "cell_type": "code",
   "execution_count": 79,
   "id": "4d38edaa-508d-4426-b22c-6e2ab8779733",
   "metadata": {},
   "outputs": [
    {
     "ename": "TypeError",
     "evalue": "'str' object does not support item assignment",
     "output_type": "error",
     "traceback": [
      "\u001b[0;31m---------------------------------------------------------------------------\u001b[0m",
      "\u001b[0;31mTypeError\u001b[0m                                 Traceback (most recent call last)",
      "Cell \u001b[0;32mIn[79], line 1\u001b[0m\n\u001b[0;32m----> 1\u001b[0m \u001b[43ms\u001b[49m\u001b[43m[\u001b[49m\u001b[38;5;241;43m0\u001b[39;49m\u001b[43m]\u001b[49m\u001b[38;5;241m=\u001b[39m\u001b[38;5;124m'\u001b[39m\u001b[38;5;124ma\u001b[39m\u001b[38;5;124m'\u001b[39m\n",
      "\u001b[0;31mTypeError\u001b[0m: 'str' object does not support item assignment"
     ]
    }
   ],
   "source": [
    "s[0]='a'   #becuase of string are immutable we cant change it permant as well string object does not support item assignment"
   ]
  },
  {
   "cell_type": "code",
   "execution_count": 80,
   "id": "36b83ae9-309c-4e05-82ca-886f6275c991",
   "metadata": {},
   "outputs": [],
   "source": [
    "ram=[12,23,33,333,]   #in list we can create \n",
    "\n",
    "ram[2]=36"
   ]
  },
  {
   "cell_type": "code",
   "execution_count": 81,
   "id": "90b399f6-4e50-4893-b8a7-024f775b4066",
   "metadata": {},
   "outputs": [
    {
     "data": {
      "text/plain": [
       "[12, 23, 36, 333]"
      ]
     },
     "execution_count": 81,
     "metadata": {},
     "output_type": "execute_result"
    }
   ],
   "source": [
    "ram"
   ]
  },
  {
   "cell_type": "code",
   "execution_count": 82,
   "id": "7b9982a5-cc2f-48cc-a7ed-2fb8d4a4a40f",
   "metadata": {},
   "outputs": [],
   "source": [
    "ram.append(444)  #appends works on only same data type"
   ]
  },
  {
   "cell_type": "code",
   "execution_count": 83,
   "id": "23d2a498-18bc-4a2e-b1ef-f20a41242074",
   "metadata": {},
   "outputs": [
    {
     "data": {
      "text/plain": [
       "[12, 23, 36, 333, 444]"
      ]
     },
     "execution_count": 83,
     "metadata": {},
     "output_type": "execute_result"
    }
   ],
   "source": [
    "ram"
   ]
  },
  {
   "cell_type": "code",
   "execution_count": 84,
   "id": "31a74fb9-02c6-46e1-b21e-2d177d856344",
   "metadata": {},
   "outputs": [
    {
     "data": {
      "text/plain": [
       "'sumi_madame'"
      ]
     },
     "execution_count": 84,
     "metadata": {},
     "output_type": "execute_result"
    }
   ],
   "source": [
    "s"
   ]
  },
  {
   "cell_type": "code",
   "execution_count": 85,
   "id": "c10edd3c-2987-405e-a869-9c92588ad977",
   "metadata": {},
   "outputs": [
    {
     "data": {
      "text/plain": [
       "'rumi_madame'"
      ]
     },
     "execution_count": 85,
     "metadata": {},
     "output_type": "execute_result"
    }
   ],
   "source": [
    "s.replace('s','r')"
   ]
  },
  {
   "cell_type": "code",
   "execution_count": 86,
   "id": "3a16d41b-0e98-4a13-9260-34aa747e2625",
   "metadata": {},
   "outputs": [
    {
     "data": {
      "text/plain": [
       "'sumi_madame'"
      ]
     },
     "execution_count": 86,
     "metadata": {},
     "output_type": "execute_result"
    }
   ],
   "source": [
    "s\n"
   ]
  },
  {
   "cell_type": "code",
   "execution_count": 87,
   "id": "b58eb32b-b017-4f13-84a5-b96820f941dc",
   "metadata": {},
   "outputs": [],
   "source": [
    "s=s.replace('s','r') #but this is not called as immutability ,yeh toh diffrent location maine ho rha pichla wala toh garbage hai"
   ]
  },
  {
   "cell_type": "code",
   "execution_count": 88,
   "id": "4c5b9911-7c2a-4a80-b594-e0676743cca6",
   "metadata": {},
   "outputs": [
    {
     "data": {
      "text/plain": [
       "'rumi_madame'"
      ]
     },
     "execution_count": 88,
     "metadata": {},
     "output_type": "execute_result"
    }
   ],
   "source": [
    "s"
   ]
  },
  {
   "cell_type": "code",
   "execution_count": null,
   "id": "ad8891ff-0ce8-469b-bc89-78a67e7e3776",
   "metadata": {},
   "outputs": [],
   "source": []
  }
 ],
 "metadata": {
  "kernelspec": {
   "display_name": "Python 3 (ipykernel)",
   "language": "python",
   "name": "python3"
  },
  "language_info": {
   "codemirror_mode": {
    "name": "ipython",
    "version": 3
   },
   "file_extension": ".py",
   "mimetype": "text/x-python",
   "name": "python",
   "nbconvert_exporter": "python",
   "pygments_lexer": "ipython3",
   "version": "3.10.8"
  }
 },
 "nbformat": 4,
 "nbformat_minor": 5
}
