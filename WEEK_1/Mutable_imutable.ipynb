{
 "cells": [
  {
   "cell_type": "code",
   "execution_count": 1,
   "id": "ee09fdd9-1cfc-4a47-acea-f66c274208ab",
   "metadata": {},
   "outputs": [
    {
     "data": {
      "text/plain": [
       "' mutable and imutable'"
      ]
     },
     "execution_count": 1,
     "metadata": {},
     "output_type": "execute_result"
    }
   ],
   "source": [
    "''' mutable and imutable'''  \n"
   ]
  },
  {
   "cell_type": "code",
   "execution_count": 2,
   "id": "1c61b2de-e902-4013-b0b7-fe4e69fc6605",
   "metadata": {},
   "outputs": [
    {
     "name": "stdout",
     "output_type": "stream",
     "text": [
      "sumit\n"
     ]
    }
   ],
   "source": [
    "name = 'sumit'\n",
    "print(name)"
   ]
  },
  {
   "cell_type": "code",
   "execution_count": 3,
   "id": "51591626-d549-4a98-b0b4-11cddee9bd19",
   "metadata": {},
   "outputs": [
    {
     "name": "stdout",
     "output_type": "stream",
     "text": [
      "rahul\n"
     ]
    }
   ],
   "source": [
    "name1 =\"rahul\"\n",
    "print(name1)"
   ]
  },
  {
   "cell_type": "code",
   "execution_count": 4,
   "id": "de7f28c2-0350-4056-93c9-345e55e66a9e",
   "metadata": {},
   "outputs": [
    {
     "data": {
      "text/plain": [
       "str"
      ]
     },
     "execution_count": 4,
     "metadata": {},
     "output_type": "execute_result"
    }
   ],
   "source": [
    "type(name)\n",
    "type(name1)"
   ]
  },
  {
   "cell_type": "code",
   "execution_count": 11,
   "id": "fb76bcf2-3d13-4080-b7d2-cc25ee4bce09",
   "metadata": {},
   "outputs": [
    {
     "data": {
      "text/plain": [
       "list"
      ]
     },
     "execution_count": 11,
     "metadata": {},
     "output_type": "execute_result"
    }
   ],
   "source": [
    "l =[1,2,3,4,5,6,\"sumit\",20+1j,68.88]\n",
    "\n",
    "type(li_st)"
   ]
  },
  {
   "cell_type": "code",
   "execution_count": 19,
   "id": "0ca0fc6c-80af-4d14-8051-459d6d0fcf8d",
   "metadata": {},
   "outputs": [
    {
     "data": {
      "text/plain": [
       "2"
      ]
     },
     "execution_count": 19,
     "metadata": {},
     "output_type": "execute_result"
    }
   ],
   "source": [
    "l[1]"
   ]
  },
  {
   "cell_type": "code",
   "execution_count": 20,
   "id": "8719a12b-d336-4c31-b132-af1f084d4360",
   "metadata": {},
   "outputs": [
    {
     "data": {
      "text/plain": [
       "(20+1j)"
      ]
     },
     "execution_count": 20,
     "metadata": {},
     "output_type": "execute_result"
    }
   ],
   "source": [
    "l[7]"
   ]
  },
  {
   "cell_type": "code",
   "execution_count": 21,
   "id": "ce5dcb95-9539-4dd5-b273-9790a9c632a2",
   "metadata": {},
   "outputs": [
    {
     "data": {
      "text/plain": [
       "68.88"
      ]
     },
     "execution_count": 21,
     "metadata": {},
     "output_type": "execute_result"
    }
   ],
   "source": [
    "l[8]"
   ]
  },
  {
   "cell_type": "code",
   "execution_count": 22,
   "id": "c9ab08e0-c5a7-43b0-89c7-4617e42cb3a5",
   "metadata": {},
   "outputs": [],
   "source": [
    "l[8] =\"madame\"\n"
   ]
  },
  {
   "cell_type": "code",
   "execution_count": 23,
   "id": "b5f7b053-5a1a-4264-ba34-b351ccff5241",
   "metadata": {},
   "outputs": [
    {
     "data": {
      "text/plain": [
       "[1, 2, 3, 4, 5, 6, 'sumit', (20+1j), 'madame']"
      ]
     },
     "execution_count": 23,
     "metadata": {},
     "output_type": "execute_result"
    }
   ],
   "source": [
    "l"
   ]
  },
  {
   "cell_type": "code",
   "execution_count": 24,
   "id": "551daf1c-de1b-4fa5-ac83-9c72ce86cc92",
   "metadata": {},
   "outputs": [
    {
     "data": {
      "text/plain": [
       "'sumit'"
      ]
     },
     "execution_count": 24,
     "metadata": {},
     "output_type": "execute_result"
    }
   ],
   "source": [
    "name"
   ]
  },
  {
   "cell_type": "code",
   "execution_count": 25,
   "id": "fbf2d486-3d6b-4430-bd76-c5ddf3582d69",
   "metadata": {},
   "outputs": [
    {
     "data": {
      "text/plain": [
       "'u'"
      ]
     },
     "execution_count": 25,
     "metadata": {},
     "output_type": "execute_result"
    }
   ],
   "source": [
    "name[1]"
   ]
  },
  {
   "cell_type": "code",
   "execution_count": 26,
   "id": "f84e33ec-b847-4dfd-b6bb-c95238a84d16",
   "metadata": {},
   "outputs": [
    {
     "ename": "TypeError",
     "evalue": "'str' object does not support item assignment",
     "output_type": "error",
     "traceback": [
      "\u001b[0;31m---------------------------------------------------------------------------\u001b[0m",
      "\u001b[0;31mTypeError\u001b[0m                                 Traceback (most recent call last)",
      "Cell \u001b[0;32mIn[26], line 1\u001b[0m\n\u001b[0;32m----> 1\u001b[0m \u001b[43mname\u001b[49m\u001b[43m[\u001b[49m\u001b[38;5;241;43m1\u001b[39;49m\u001b[43m]\u001b[49m \u001b[38;5;241m=\u001b[39m\u001b[38;5;124m'\u001b[39m\u001b[38;5;124mr\u001b[39m\u001b[38;5;124m'\u001b[39m\n",
      "\u001b[0;31mTypeError\u001b[0m: 'str' object does not support item assignment"
     ]
    }
   ],
   "source": [
    "name[1] ='r'   #it is imutable string is a imutable for location"
   ]
  },
  {
   "cell_type": "code",
   "execution_count": null,
   "id": "ddacf5a0-27d4-41b7-810b-7e858d576ee7",
   "metadata": {},
   "outputs": [],
   "source": []
  }
 ],
 "metadata": {
  "kernelspec": {
   "display_name": "Python 3 (ipykernel)",
   "language": "python",
   "name": "python3"
  },
  "language_info": {
   "codemirror_mode": {
    "name": "ipython",
    "version": 3
   },
   "file_extension": ".py",
   "mimetype": "text/x-python",
   "name": "python",
   "nbconvert_exporter": "python",
   "pygments_lexer": "ipython3",
   "version": "3.10.8"
  }
 },
 "nbformat": 4,
 "nbformat_minor": 5
}
