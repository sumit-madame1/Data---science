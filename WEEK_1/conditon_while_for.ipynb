{
 "cells": [
  {
   "cell_type": "code",
   "execution_count": 4,
   "id": "b38de95b-35be-4b18-8883-bc4a9f2c836f",
   "metadata": {},
   "outputs": [
    {
     "name": "stdout",
     "output_type": "stream",
     "text": [
      "yes it is greater than a\n"
     ]
    }
   ],
   "source": [
    "#if elif else\n",
    "\n",
    "a = 20\n",
    "if a>10:\n",
    "    print(\"yes it is greater than a\")"
   ]
  },
  {
   "cell_type": "code",
   "execution_count": 8,
   "id": "d87f889d-1aff-46a1-8aee-cc63f2a3fae5",
   "metadata": {},
   "outputs": [
    {
     "name": "stdout",
     "output_type": "stream",
     "text": [
      "yess it less than equals to 100\n"
     ]
    }
   ],
   "source": [
    "a=100\n",
    "if a<=120:\n",
    "    print(\"yess it less than equals to 100\")"
   ]
  },
  {
   "cell_type": "code",
   "execution_count": 16,
   "id": "c31488e2-3375-4c31-96dc-f8fc01ffd4b0",
   "metadata": {},
   "outputs": [
    {
     "name": "stdout",
     "output_type": "stream",
     "text": [
      "right\n"
     ]
    }
   ],
   "source": [
    "a=100\n",
    "if a>400:\n",
    "    print(\"ok\")\n",
    "elif a<10 :\n",
    "    print(\"yess\")\n",
    "elif a>10:\n",
    "    print(\"right\")\n",
    "else:\n",
    "    print(\"this is default address\")"
   ]
  },
  {
   "cell_type": "code",
   "execution_count": 20,
   "id": "1c214208-eeb2-4456-be03-f16fba6e754f",
   "metadata": {},
   "outputs": [
    {
     "name": "stdin",
     "output_type": "stream",
     "text": [
      " 40\n"
     ]
    },
    {
     "name": "stdout",
     "output_type": "stream",
     "text": [
      "this is default\n"
     ]
    }
   ],
   "source": [
    "#user input if else else if\n",
    "\n",
    "b= int(input())   # #this for user input (user input futn we have used )\n",
    "if b>100:\n",
    "    print(\"b is greater\")\n",
    "elif b<1:\n",
    "    print(\"wrong\")\n",
    "else:\n",
    "    print(\"this is default\")\n",
    "    "
   ]
  },
  {
   "cell_type": "code",
   "execution_count": null,
   "id": "e7199cd8-3239-4b3e-adbf-931047e1ba54",
   "metadata": {},
   "outputs": [],
   "source": [
    "#while loop "
   ]
  },
  {
   "cell_type": "code",
   "execution_count": 24,
   "id": "5bbd5fa7-903f-4e12-ae75-1353d3cdfebc",
   "metadata": {},
   "outputs": [
    {
     "name": "stdout",
     "output_type": "stream",
     "text": [
      "1\n",
      "2\n",
      "3\n",
      "4\n"
     ]
    }
   ],
   "source": [
    "n=5\n",
    "i=1\n",
    "while i<n:\n",
    "    print(i)\n",
    "    i+=1"
   ]
  },
  {
   "cell_type": "code",
   "execution_count": 32,
   "id": "0484ae97-806c-4cb0-916e-3f67b2c64794",
   "metadata": {},
   "outputs": [
    {
     "name": "stdout",
     "output_type": "stream",
     "text": [
      "1\n",
      "2\n"
     ]
    }
   ],
   "source": [
    "n=5\n",
    "i=1\n",
    "while i<n:\n",
    "    print(i)\n",
    "    i=i+1\n",
    "   \n",
    "    \n",
    "else:\n",
    "        print(\"this is default\")"
   ]
  },
  {
   "cell_type": "code",
   "execution_count": 35,
   "id": "6266801e-9a36-405b-b71f-8c4299df7693",
   "metadata": {},
   "outputs": [
    {
     "name": "stdout",
     "output_type": "stream",
     "text": [
      "1\n",
      "2\n"
     ]
    }
   ],
   "source": [
    "n=5\n",
    "i=1\n",
    "while i<n:\n",
    "    print(i)\n",
    "    i=i+1\n",
    "    if i==3:\n",
    "        break\n",
    "else:\n",
    "    print(\"this is default:\")\n",
    "            \n",
    "        "
   ]
  },
  {
   "cell_type": "code",
   "execution_count": 36,
   "id": "7aa36f13-e5bf-4941-83e2-dc51f1053a07",
   "metadata": {},
   "outputs": [
    {
     "name": "stdout",
     "output_type": "stream",
     "text": [
      "s\n",
      "u\n",
      "m\n",
      "i\n",
      "t\n",
      "m\n",
      "a\n",
      "d\n",
      "a\n",
      "m\n",
      "e\n"
     ]
    }
   ],
   "source": [
    "#for loop\n",
    "\n",
    "sumit = \"sumitmadame\"\n",
    "\n",
    "for i in sumit:\n",
    "    print(i)"
   ]
  },
  {
   "cell_type": "code",
   "execution_count": null,
   "id": "39e607ca-c4d4-431e-81a2-53e1c6414e5e",
   "metadata": {},
   "outputs": [],
   "source": []
  },
  {
   "cell_type": "code",
   "execution_count": null,
   "id": "1c6fdb98-dae8-462b-aaba-dde896b6b8f0",
   "metadata": {},
   "outputs": [],
   "source": []
  },
  {
   "cell_type": "code",
   "execution_count": null,
   "id": "ac288ddd-d3cf-4bc2-ab37-c56887bcf13b",
   "metadata": {},
   "outputs": [],
   "source": []
  }
 ],
 "metadata": {
  "kernelspec": {
   "display_name": "Python 3 (ipykernel)",
   "language": "python",
   "name": "python3"
  },
  "language_info": {
   "codemirror_mode": {
    "name": "ipython",
    "version": 3
   },
   "file_extension": ".py",
   "mimetype": "text/x-python",
   "name": "python",
   "nbconvert_exporter": "python",
   "pygments_lexer": "ipython3",
   "version": "3.10.8"
  }
 },
 "nbformat": 4,
 "nbformat_minor": 5
}
