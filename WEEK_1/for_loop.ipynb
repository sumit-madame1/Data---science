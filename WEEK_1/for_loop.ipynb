{
 "cells": [
  {
   "cell_type": "code",
   "execution_count": 8,
   "id": "fb9c4cab-83b0-4bc8-aff8-b696efe31272",
   "metadata": {},
   "outputs": [
    {
     "name": "stdout",
     "output_type": "stream",
     "text": [
      "s\n",
      "u\n",
      "m\n",
      "i\n",
      "t\n",
      "this is defualt\n"
     ]
    }
   ],
   "source": [
    "n =\"sumit\"\n",
    "for i in n:\n",
    "    print(i)\n",
    "    if i==2:\n",
    "        break\n",
    "else:\n",
    "    print(\"this is defualt\")\n",
    "            "
   ]
  },
  {
   "cell_type": "code",
   "execution_count": 14,
   "id": "5a9bc50c-8b19-48dc-9fd4-05e53741d087",
   "metadata": {},
   "outputs": [
    {
     "name": "stdout",
     "output_type": "stream",
     "text": [
      "[2, 3, 4, 5, 6, 'sudh', 'pwskills', 23.45, True]\n",
      "<class 'int'>\n",
      "<class 'int'>\n",
      "<class 'int'>\n",
      "<class 'int'>\n",
      "<class 'int'>\n",
      "<class 'str'>\n"
     ]
    }
   ],
   "source": [
    "l = [2,3,4,5,6,\"sudh\" , \"pwskills\" , 23.45, True]\n",
    "\n",
    "print(l)\n",
    "\n",
    "for i in l:\n",
    "    print(type(i))\n",
    "    if i==\"sudh\":\n",
    "        break\n",
    "else:\n",
    "    print(\"this is default\")"
   ]
  },
  {
   "cell_type": "code",
   "execution_count": 15,
   "id": "f8a00375-5b65-4ba5-9850-f730dc67c81a",
   "metadata": {},
   "outputs": [
    {
     "name": "stdout",
     "output_type": "stream",
     "text": [
      "<class 'int'>\n",
      "<class 'int'>\n",
      "<class 'int'>\n",
      "<class 'int'>\n",
      "<class 'int'>\n",
      "<class 'str'>\n",
      "<class 'str'>\n",
      "<class 'float'>\n",
      "<class 'bool'>\n",
      "this will be executed once for loop will comoplete itself succefully\n"
     ]
    }
   ],
   "source": [
    "for i in l : \n",
    "    print(type(i))\n",
    "    if i == 6 :\n",
    "        continue\n",
    "else :\n",
    "    print(\"this will be executed once for loop will comoplete itself succefully\")"
   ]
  },
  {
   "cell_type": "code",
   "execution_count": 16,
   "id": "5aaf65fd-456b-43b2-9ef9-12e59e6cca90",
   "metadata": {},
   "outputs": [
    {
     "data": {
      "text/plain": [
       "range(0, 10)"
      ]
     },
     "execution_count": 16,
     "metadata": {},
     "output_type": "execute_result"
    }
   ],
   "source": [
    "range(10)\n"
   ]
  },
  {
   "cell_type": "code",
   "execution_count": null,
   "id": "f176a2dd-bfcc-42d2-8649-ab49a8f45cb0",
   "metadata": {},
   "outputs": [],
   "source": [
    "list(ran"
   ]
  }
 ],
 "metadata": {
  "kernelspec": {
   "display_name": "Python 3 (ipykernel)",
   "language": "python",
   "name": "python3"
  },
  "language_info": {
   "codemirror_mode": {
    "name": "ipython",
    "version": 3
   },
   "file_extension": ".py",
   "mimetype": "text/x-python",
   "name": "python",
   "nbconvert_exporter": "python",
   "pygments_lexer": "ipython3",
   "version": "3.10.8"
  }
 },
 "nbformat": 4,
 "nbformat_minor": 5
}
