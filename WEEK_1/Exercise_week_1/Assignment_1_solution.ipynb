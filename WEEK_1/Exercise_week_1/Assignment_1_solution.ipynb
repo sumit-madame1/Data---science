{
 "cells": [
  {
   "cell_type": "code",
   "execution_count": 5,
   "id": "ed215502-260f-417e-84cc-5a94b4eb28a3",
   "metadata": {},
   "outputs": [
    {
     "name": "stdout",
     "output_type": "stream",
     "text": [
      "sumit\n"
     ]
    },
    {
     "data": {
      "text/plain": [
       "str"
      ]
     },
     "execution_count": 5,
     "metadata": {},
     "output_type": "execute_result"
    }
   ],
   "source": [
    "#first question solution(String)\n",
    "name = \"sumit\"\n",
    "\n",
    "print(name)\n",
    "type(name)"
   ]
  },
  {
   "cell_type": "code",
   "execution_count": 8,
   "id": "90865301-cd36-496b-8b5e-88aba30a095f",
   "metadata": {},
   "outputs": [
    {
     "name": "stdout",
     "output_type": "stream",
     "text": [
      "<class 'list'>\n"
     ]
    },
    {
     "data": {
      "text/plain": [
       "list"
      ]
     },
     "execution_count": 8,
     "metadata": {},
     "output_type": "execute_result"
    }
   ],
   "source": [
    "#1.2(list)\n",
    "\n",
    "l = [1,2,3,4,5,6,\"sumit_madame\",45.90, 20+3J]\n",
    "\n",
    "print(type(l))\n",
    "type(l)"
   ]
  },
  {
   "cell_type": "code",
   "execution_count": 9,
   "id": "cbbb796e-f424-422b-8250-ddf0436f1631",
   "metadata": {},
   "outputs": [
    {
     "data": {
      "text/plain": [
       "float"
      ]
     },
     "execution_count": 9,
     "metadata": {},
     "output_type": "execute_result"
    }
   ],
   "source": [
    "#1.3\n",
    "x =10.44\n",
    "type(x)\n"
   ]
  },
  {
   "cell_type": "code",
   "execution_count": 10,
   "id": "7e6b10ee-b8bb-4777-9218-0fa1f7a93421",
   "metadata": {},
   "outputs": [
    {
     "data": {
      "text/plain": [
       "tuple"
      ]
     },
     "execution_count": 10,
     "metadata": {},
     "output_type": "execute_result"
    }
   ],
   "source": [
    "my_tup=(\"apple\",\"oranage\",\"banana\")\n",
    "\n",
    "type(my_tup)"
   ]
  },
  {
   "cell_type": "code",
   "execution_count": 11,
   "id": "995e3dbd-626a-491e-b0c7-93a3efd8b72f",
   "metadata": {},
   "outputs": [
    {
     "name": "stdout",
     "output_type": "stream",
     "text": [
      "1.0\n"
     ]
    }
   ],
   "source": [
    "\"\"\"Q2. Given are some following variables containing data:\n",
    "(i) var1 = ‘ ‘\n",
    "(ii) var2 = ‘[ DS , ML , Python]’\n",
    "(iii) var3 = [ ‘DS’ , ’ML’ , ‘Python’ ]\n",
    "(iv) var4 = 1.\n",
    "\"\"\"\n",
    "#ANSWER \n",
    "\"\"\"\n",
    "1---->String\n",
    "2---->Syntax error\n",
    "3----->list\n",
    "4------>float\n",
    "\"\"\""
   ]
  },
  {
   "cell_type": "code",
   "execution_count": 17,
   "id": "f4b9a99f-473c-4484-8d2e-8f4c0c5c782f",
   "metadata": {},
   "outputs": [
    {
     "name": "stdout",
     "output_type": "stream",
     "text": [
      "2.0\n",
      "0\n",
      "2\n",
      "10240000000000\n"
     ]
    }
   ],
   "source": [
    "#Question_number_third\n",
    "\"\"\"\n",
    "Q3. Explain the use of the following operators using an example:\n",
    "(i) /\n",
    "(ii) %\n",
    "(iii) //\n",
    "(iv) **\n",
    "\n",
    "\"\"\"\n",
    "\n",
    "x=20\n",
    "y=10\n",
    "\n",
    "z  = x/y  #this is division operator\n",
    "z1 = x%y  # this is modulus operator which gives reminder\n",
    "z2 = x//y #\tThis is Floor division operator\n",
    "z3 = x**y #print(x ** y) #same as 2*2*2*2*2  (Exponentiation)\n",
    "\n",
    "print(z)\n",
    "print(z1)\n",
    "print(z2)\n",
    "print(z3)\n",
    "\n",
    "\n",
    "\n",
    "\n"
   ]
  },
  {
   "cell_type": "code",
   "execution_count": 18,
   "id": "1dbb81c3-2a4a-41c9-964f-4f4766fea849",
   "metadata": {},
   "outputs": [
    {
     "name": "stdout",
     "output_type": "stream",
     "text": [
      "<class 'int'>\n",
      "<class 'int'>\n",
      "<class 'int'>\n",
      "<class 'int'>\n",
      "<class 'int'>\n",
      "<class 'str'>\n",
      "<class 'str'>\n",
      "<class 'float'>\n",
      "<class 'complex'>\n"
     ]
    }
   ],
   "source": [
    "\"\"\" Q4. Create a list of length 10 of your choice containing multiple types of data. Using for loop print the\n",
    "element and its data type.\"\"\"\n",
    "\n",
    "li =[1,2,3,4,5,\"sumit\",\"sahil\",56.0 , 20+56j ]\n",
    "\n",
    "for i in li:\n",
    "    print(type(i))\n",
    "\n"
   ]
  },
  {
   "cell_type": "code",
   "execution_count": 20,
   "id": "29c8b12a-c953-4238-923b-18d27f1f46e4",
   "metadata": {},
   "outputs": [
    {
     "name": "stdin",
     "output_type": "stream",
     "text": [
      " 10\n",
      " 50\n"
     ]
    },
    {
     "name": "stdout",
     "output_type": "stream",
     "text": [
      "not divisible\n"
     ]
    }
   ],
   "source": [
    "\"\"\" Q5. Using a while loop, verify if the number A is purely divisible by number B and if so then how many\n",
    "times it can be divisible.\"\"\"\n",
    "\n",
    "a=int(input())\n",
    "b=int(input())\n",
    "c=0\n",
    "if a/b==0:\n",
    "    while(a/b>=b and type(a/b)==int):\n",
    "        c+=1\n",
    "        a/=b\n",
    "    c\n",
    "else:\n",
    "    print(\"not divisible\")\n",
    "        \n",
    "\n"
   ]
  },
  {
   "cell_type": "code",
   "execution_count": 28,
   "id": "d9fd3170-0d4b-49cb-a322-5f25c7b9bcd0",
   "metadata": {},
   "outputs": [
    {
     "data": {
      "text/plain": [
       "[3, 45, 12, 54, 12, 24, 24, 189, 987, 2121, 1212, 567]"
      ]
     },
     "execution_count": 28,
     "metadata": {},
     "output_type": "execute_result"
    }
   ],
   "source": [
    "\"\"\"Q6. Create a list containing 25 int type data. Using for loop and if-else condition print if the element is\n",
    "divisible by 3 or not.\"\"\"\n",
    "\n",
    "li =[1,2,3,45,65,12,34,54,23,12,34,24,24,344,44,4444,189,987,223,200,2121,9080,1212,567,38]\n",
    "li1=[]\n",
    "li2=[]\n",
    "for i in li:\n",
    "    if i%3==0:\n",
    "        li1.append(i)\n",
    "    else:\n",
    "        li2.append(i)\n",
    "li1     \n",
    "\n",
    "        \n",
    "        \n"
   ]
  },
  {
   "cell_type": "code",
   "execution_count": 29,
   "id": "0eee682a-2589-4248-9873-d9a29a46e799",
   "metadata": {},
   "outputs": [
    {
     "data": {
      "text/plain": [
       "[1, 2, 65, 34, 23, 34, 344, 44, 4444, 223, 200, 9080, 38]"
      ]
     },
     "execution_count": 29,
     "metadata": {},
     "output_type": "execute_result"
    }
   ],
   "source": [
    "li =[1,2,3,45,65,12,34,54,23,12,34,24,24,344,44,4444,189,987,223,200,2121,9080,1212,567,38]\n",
    "li1=[]\n",
    "li2=[]\n",
    "for i in li:\n",
    "    if i%3==0:\n",
    "        li1.append(i)\n",
    "    else:\n",
    "        li2.append(i)\n",
    "li2     "
   ]
  },
  {
   "cell_type": "code",
   "execution_count": null,
   "id": "e6d57723-942a-4e02-8baa-ba5fda6bc654",
   "metadata": {},
   "outputs": [],
   "source": [
    "\"\"\"Q7. What do you understand about mutable and immutable data types? Give examples for both showing\n",
    "this property.\"\"\"\n",
    "\"\"\"\n",
    "#  Ans:-IN MUTABLE WE CAN NOT CHANGE OR WE CAN NOT MODIFY THE VARIBLE DATA OBJECT CAN NOT BE ALTERD\n",
    "#IN IMMUTABLE WE CAN CHANGE OR MODIFY THE VARIBLE NAME DATA AN MANY OPERTATION\n",
    "\n",
    "# Creating a list  \n",
    "list1 = ['Python', 'Java', 23, False, 5.3]  \n",
    "print(\"The original list: \", list1)  \n",
    "  \n",
    "# Changing the value at index 2 of the list  \n",
    "list1[2]='changed'  \n",
    "print(\"The modified list: \", list1)\n",
    "\n",
    "\"\"\"\n",
    "\n"
   ]
  }
 ],
 "metadata": {
  "kernelspec": {
   "display_name": "Python 3 (ipykernel)",
   "language": "python",
   "name": "python3"
  },
  "language_info": {
   "codemirror_mode": {
    "name": "ipython",
    "version": 3
   },
   "file_extension": ".py",
   "mimetype": "text/x-python",
   "name": "python",
   "nbconvert_exporter": "python",
   "pygments_lexer": "ipython3",
   "version": "3.10.8"
  }
 },
 "nbformat": 4,
 "nbformat_minor": 5
}
