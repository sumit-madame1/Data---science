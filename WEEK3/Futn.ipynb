{
 "cells": [
  {
   "cell_type": "code",
   "execution_count": 1,
   "id": "85ebf308-c01b-4e8d-a164-d39a9274ed1e",
   "metadata": {},
   "outputs": [
    {
     "name": "stdout",
     "output_type": "stream",
     "text": [
      "this is my first futn lect\n"
     ]
    }
   ],
   "source": [
    "#IN THIS FILE WE WILL LEARN ABOUT FUNTION IN PYHTON PROGRAMMING LANG.\n",
    "\n",
    "print(\"this is my first futn lect\")"
   ]
  },
  {
   "cell_type": "code",
   "execution_count": 2,
   "id": "6a241604-ecd5-4aac-81af-c4d4e994cfd2",
   "metadata": {},
   "outputs": [
    {
     "data": {
      "text/plain": [
       "int"
      ]
     },
     "execution_count": 2,
     "metadata": {},
     "output_type": "execute_result"
    }
   ],
   "source": [
    "x =10\n",
    "type(x)"
   ]
  },
  {
   "cell_type": "code",
   "execution_count": 4,
   "id": "7e8e3727-8b36-48fa-a091-47f532afeed4",
   "metadata": {},
   "outputs": [],
   "source": [
    "def test():  # with arguments we can procced with the help of pass keyword\n",
    "    pass"
   ]
  },
  {
   "cell_type": "code",
   "execution_count": 8,
   "id": "263c7494-c4b3-4ac2-b5db-3a265267f23a",
   "metadata": {},
   "outputs": [],
   "source": [
    "def test1():\n",
    "    return \"hello world ! \""
   ]
  },
  {
   "cell_type": "code",
   "execution_count": 9,
   "id": "df1b7463-39a0-4fe5-bfaa-7a71367ef1b8",
   "metadata": {},
   "outputs": [
    {
     "data": {
      "text/plain": [
       "'hello world ! '"
      ]
     },
     "execution_count": 9,
     "metadata": {},
     "output_type": "execute_result"
    }
   ],
   "source": [
    "test1()"
   ]
  },
  {
   "cell_type": "code",
   "execution_count": 15,
   "id": "cab884a3-7621-4c9e-b378-a69569d7020d",
   "metadata": {},
   "outputs": [],
   "source": [
    "def test2(a,b,c):\n",
    "    d= a+b+c\n",
    "    return d\n"
   ]
  },
  {
   "cell_type": "code",
   "execution_count": 16,
   "id": "5cdf924d-435d-42f0-aa02-875edb55f9ca",
   "metadata": {},
   "outputs": [
    {
     "data": {
      "text/plain": [
       "60"
      ]
     },
     "execution_count": 16,
     "metadata": {},
     "output_type": "execute_result"
    }
   ],
   "source": [
    "test2(10,20,30)"
   ]
  },
  {
   "cell_type": "code",
   "execution_count": 18,
   "id": "236eaf7c-111f-42cc-80ad-1ebfa5ce9461",
   "metadata": {},
   "outputs": [
    {
     "data": {
      "text/plain": [
       "150"
      ]
     },
     "execution_count": 18,
     "metadata": {},
     "output_type": "execute_result"
    }
   ],
   "source": [
    "\n",
    "test2(10,20,30) + 90"
   ]
  },
  {
   "cell_type": "code",
   "execution_count": 19,
   "id": "e2223aee-4b15-40a3-a1a4-2ed54e737e32",
   "metadata": {},
   "outputs": [],
   "source": [
    "def test3():\n",
    "    return \"i love my\"\n"
   ]
  },
  {
   "cell_type": "code",
   "execution_count": 23,
   "id": "ba50c111-c2c1-4dee-a10c-d592893bfda2",
   "metadata": {},
   "outputs": [
    {
     "data": {
      "text/plain": [
       "'i love my Mother'"
      ]
     },
     "execution_count": 23,
     "metadata": {},
     "output_type": "execute_result"
    }
   ],
   "source": [
    "test3() +\" Mother\""
   ]
  },
  {
   "cell_type": "code",
   "execution_count": 24,
   "id": "41b22fe2-2240-4d3e-99fe-557221225c4f",
   "metadata": {},
   "outputs": [],
   "source": [
    "def test4():\n",
    "    return 1,2,3,4,  \"sumit\", [10,20,30],('ok','fine'), {'name':'sumit','age':19}\n"
   ]
  },
  {
   "cell_type": "code",
   "execution_count": 26,
   "id": "7519b4fd-afdc-4a51-b959-133820e77942",
   "metadata": {},
   "outputs": [
    {
     "name": "stdout",
     "output_type": "stream",
     "text": [
      "(1, 2, 3, 4, 'sumit', [10, 20, 30], ('ok', 'fine'), {'name': 'sumit', 'age': 19})\n"
     ]
    }
   ],
   "source": [
    "print(test4())"
   ]
  },
  {
   "cell_type": "code",
   "execution_count": 31,
   "id": "228f1019-2dbc-4b15-8990-f6beec0a58f7",
   "metadata": {},
   "outputs": [],
   "source": [
    "a,b,c,d,e,f,g,h =  test4()"
   ]
  },
  {
   "cell_type": "code",
   "execution_count": 32,
   "id": "493ef8e0-4745-4aef-b93f-ef262503cdb7",
   "metadata": {},
   "outputs": [
    {
     "data": {
      "text/plain": [
       "1"
      ]
     },
     "execution_count": 32,
     "metadata": {},
     "output_type": "execute_result"
    }
   ],
   "source": [
    "a"
   ]
  },
  {
   "cell_type": "code",
   "execution_count": 33,
   "id": "9d1ddc58-a0e6-43d9-9b10-eed0498ad301",
   "metadata": {},
   "outputs": [
    {
     "data": {
      "text/plain": [
       "2"
      ]
     },
     "execution_count": 33,
     "metadata": {},
     "output_type": "execute_result"
    }
   ],
   "source": [
    "b"
   ]
  },
  {
   "cell_type": "code",
   "execution_count": 34,
   "id": "307da354-c459-4b1d-9fe4-f652c7dbfed1",
   "metadata": {},
   "outputs": [
    {
     "data": {
      "text/plain": [
       "'sumit'"
      ]
     },
     "execution_count": 34,
     "metadata": {},
     "output_type": "execute_result"
    }
   ],
   "source": [
    "e"
   ]
  },
  {
   "cell_type": "code",
   "execution_count": 35,
   "id": "4b814086-6d64-4d02-9a48-324659d71465",
   "metadata": {},
   "outputs": [
    {
     "data": {
      "text/plain": [
       "[10, 20, 30]"
      ]
     },
     "execution_count": 35,
     "metadata": {},
     "output_type": "execute_result"
    }
   ],
   "source": [
    "f"
   ]
  },
  {
   "cell_type": "code",
   "execution_count": 36,
   "id": "7a51479f-1ecd-47b7-873e-215068ed4531",
   "metadata": {},
   "outputs": [
    {
     "data": {
      "text/plain": [
       "('ok', 'fine')"
      ]
     },
     "execution_count": 36,
     "metadata": {},
     "output_type": "execute_result"
    }
   ],
   "source": [
    "g"
   ]
  },
  {
   "cell_type": "code",
   "execution_count": 37,
   "id": "3f775830-e159-40f7-ab9d-797105595b56",
   "metadata": {},
   "outputs": [
    {
     "data": {
      "text/plain": [
       "{'name': 'sumit', 'age': 19}"
      ]
     },
     "execution_count": 37,
     "metadata": {},
     "output_type": "execute_result"
    }
   ],
   "source": [
    "h"
   ]
  },
  {
   "cell_type": "code",
   "execution_count": 38,
   "id": "28cb7b71-d743-4a2e-badb-d06c3509299d",
   "metadata": {},
   "outputs": [
    {
     "data": {
      "text/plain": [
       "dict"
      ]
     },
     "execution_count": 38,
     "metadata": {},
     "output_type": "execute_result"
    }
   ],
   "source": [
    "type(h)"
   ]
  },
  {
   "cell_type": "code",
   "execution_count": 42,
   "id": "e2bb257e-265c-4a72-8864-a2e017f87eda",
   "metadata": {},
   "outputs": [],
   "source": [
    "#addition of two number using futn\n",
    "def test5(a,b):\n",
    "    d=a+b\n",
    "    return d\n",
    "    "
   ]
  },
  {
   "cell_type": "code",
   "execution_count": 43,
   "id": "e505ccc1-2957-4388-a703-3a61a2ff2ca9",
   "metadata": {},
   "outputs": [
    {
     "data": {
      "text/plain": [
       "150"
      ]
     },
     "execution_count": 43,
     "metadata": {},
     "output_type": "execute_result"
    }
   ],
   "source": [
    "test5(50,100)"
   ]
  },
  {
   "cell_type": "code",
   "execution_count": 44,
   "id": "5c9f7536-6b18-4098-b5eb-57d4265e8cb2",
   "metadata": {},
   "outputs": [],
   "source": [
    "def test6(a,b):\n",
    "    return a+b"
   ]
  },
  {
   "cell_type": "code",
   "execution_count": 46,
   "id": "5db40881-43b1-45db-878b-e6846c994b4a",
   "metadata": {},
   "outputs": [
    {
     "data": {
      "text/plain": [
       "'sumit Rahul'"
      ]
     },
     "execution_count": 46,
     "metadata": {},
     "output_type": "execute_result"
    }
   ],
   "source": [
    "test6('sumit',' Rahul')"
   ]
  },
  {
   "cell_type": "code",
   "execution_count": 47,
   "id": "c53e5b43-0076-4579-b4db-8e9324e40862",
   "metadata": {},
   "outputs": [
    {
     "data": {
      "text/plain": [
       "[1, 2, 3, 4, 5, 4, 5, 6]"
      ]
     },
     "execution_count": 47,
     "metadata": {},
     "output_type": "execute_result"
    }
   ],
   "source": [
    "test6([1,2,3,4,5] , [4,5,6])"
   ]
  },
  {
   "cell_type": "code",
   "execution_count": 48,
   "id": "fdcfb29f-9a2c-4b47-b955-56073004cf5d",
   "metadata": {},
   "outputs": [
    {
     "data": {
      "text/plain": [
       "1003"
      ]
     },
     "execution_count": 48,
     "metadata": {},
     "output_type": "execute_result"
    }
   ],
   "source": [
    "test6(1000,3)"
   ]
  },
  {
   "cell_type": "code",
   "execution_count": 68,
   "id": "58090eda-0c2e-41e3-9982-00ad28b47289",
   "metadata": {},
   "outputs": [],
   "source": [
    "l = [1,2,3,4,\"sudh\" , \"kumar\" ,[1,2,3,4,5,6]]\n",
    "\n",
    "l1=[]\n",
    "\n",
    "for i in l:\n",
    "    #if type(i) ==str  or type(i) == str:\n",
    "     if type(i) ==int  or type(i) == float:\n",
    "            l1.append(i)\n",
    "            \n",
    "    "
   ]
  },
  {
   "cell_type": "code",
   "execution_count": 69,
   "id": "94d854f3-2b5a-4e32-a01f-281613cd60a6",
   "metadata": {},
   "outputs": [
    {
     "data": {
      "text/plain": [
       "[1, 2, 3, 4]"
      ]
     },
     "execution_count": 69,
     "metadata": {},
     "output_type": "execute_result"
    }
   ],
   "source": [
    "l1"
   ]
  },
  {
   "cell_type": "code",
   "execution_count": 77,
   "id": "bb5edee7-7f0e-4c89-a0fc-9816ba77419a",
   "metadata": {},
   "outputs": [],
   "source": [
    "def number_sathi(l):  #l is the just varible \n",
    "    l1=[]\n",
    "\n",
    "    for i in l:\n",
    "        if type(i) ==int  or type(i) == float:\n",
    "             l1.append(i)\n",
    "    #if type(i) ==str  or type(i) == str:\n",
    "    return i  \n",
    "           \n",
    "          "
   ]
  },
  {
   "cell_type": "code",
   "execution_count": 78,
   "id": "c7c80b80-d3f0-4837-9a90-57ac3b7c7980",
   "metadata": {},
   "outputs": [
    {
     "data": {
      "text/plain": [
       "[1, 2, 3, 4, 5, 6]"
      ]
     },
     "execution_count": 78,
     "metadata": {},
     "output_type": "execute_result"
    }
   ],
   "source": [
    "number_sathi(l)"
   ]
  },
  {
   "cell_type": "code",
   "execution_count": 79,
   "id": "0e7c7d53-c5ff-4eaa-bd51-4d41dfffe525",
   "metadata": {},
   "outputs": [],
   "source": [
    "def test8(a) :  # a is the just varible name\n",
    "    l= []\n",
    "    for i in a :\n",
    "        if type(i) == list:\n",
    "            for j in i :\n",
    "                l.append(j)\n",
    "        else :\n",
    "            if type(i) == int or type(i) == float :\n",
    "                l.append(i)\n",
    "    return l\n",
    "            "
   ]
  },
  {
   "cell_type": "code",
   "execution_count": 80,
   "id": "06240f2b-3f6e-43d8-866c-171fb8c41902",
   "metadata": {},
   "outputs": [
    {
     "data": {
      "text/plain": [
       "[1, 2, 3, 4, 1, 2, 3, 4, 5, 6]"
      ]
     },
     "execution_count": 80,
     "metadata": {},
     "output_type": "execute_result"
    }
   ],
   "source": [
    "test8(l)"
   ]
  },
  {
   "cell_type": "code",
   "execution_count": 81,
   "id": "66b95bc1-abd7-4e3b-9912-5d07fa4e7938",
   "metadata": {},
   "outputs": [],
   "source": [
    "def test9(a,b):\n",
    "    return a+b\n"
   ]
  },
  {
   "cell_type": "code",
   "execution_count": 82,
   "id": "f88361a1-5b80-4796-b57f-f3ff00d894cc",
   "metadata": {},
   "outputs": [
    {
     "data": {
      "text/plain": [
       "65"
      ]
     },
     "execution_count": 82,
     "metadata": {},
     "output_type": "execute_result"
    }
   ],
   "source": [
    "test9(10,55)"
   ]
  },
  {
   "cell_type": "code",
   "execution_count": 83,
   "id": "f198dea7-e257-4482-80a1-24ad70ad7f91",
   "metadata": {},
   "outputs": [],
   "source": [
    "def test10(*add_many):   #  *this asstrick we used for add multiple arguments\n",
    "    return add_many\n",
    "    "
   ]
  },
  {
   "cell_type": "code",
   "execution_count": 84,
   "id": "780f42bb-930b-4c26-af9e-6e652fa54e28",
   "metadata": {},
   "outputs": [
    {
     "data": {
      "text/plain": [
       "<function __main__.test10(*add_many)>"
      ]
     },
     "execution_count": 84,
     "metadata": {},
     "output_type": "execute_result"
    }
   ],
   "source": [
    "test10"
   ]
  },
  {
   "cell_type": "code",
   "execution_count": 85,
   "id": "25d0b1b7-dcf4-4ae2-9896-465de65c5d98",
   "metadata": {},
   "outputs": [
    {
     "data": {
      "text/plain": [
       "(1, 2, 3, 4, 56, 7)"
      ]
     },
     "execution_count": 85,
     "metadata": {},
     "output_type": "execute_result"
    }
   ],
   "source": [
    "test10(1,2,3,4,56,7)"
   ]
  },
  {
   "cell_type": "code",
   "execution_count": 86,
   "id": "e2224410-7f5d-44fd-8abc-d44ac3294da5",
   "metadata": {},
   "outputs": [
    {
     "data": {
      "text/plain": [
       "(1, 2, 3, 4, 56, 7, 'sumit', [1, 4, 5])"
      ]
     },
     "execution_count": 86,
     "metadata": {},
     "output_type": "execute_result"
    }
   ],
   "source": [
    "test10(1,2,3,4,56,7,\"sumit\",[1,4,5])"
   ]
  },
  {
   "cell_type": "code",
   "execution_count": 87,
   "id": "4d5ef1e1-6e35-4cae-8f0f-5ea83288e6f9",
   "metadata": {},
   "outputs": [],
   "source": [
    "def test12(*sudh):\n",
    "    return sudh"
   ]
  },
  {
   "cell_type": "code",
   "execution_count": 88,
   "id": "6e61a0e8-cc61-425c-a8bd-c46a953f1eb9",
   "metadata": {},
   "outputs": [
    {
     "data": {
      "text/plain": [
       "(1, 2, 34, 4)"
      ]
     },
     "execution_count": 88,
     "metadata": {},
     "output_type": "execute_result"
    }
   ],
   "source": [
    "test12(1,2,34,4)"
   ]
  },
  {
   "cell_type": "code",
   "execution_count": 96,
   "id": "fdc3d5ac-c8e8-4cdc-ae54-17ac00052886",
   "metadata": {},
   "outputs": [],
   "source": [
    "def test13(*nambar,a=67):\n",
    "    return nambar,a"
   ]
  },
  {
   "cell_type": "code",
   "execution_count": 97,
   "id": "5e0fab3b-d297-4161-a05f-70c57e63c2b7",
   "metadata": {},
   "outputs": [
    {
     "data": {
      "text/plain": [
       "((18, 22, 34, 5), 67)"
      ]
     },
     "execution_count": 97,
     "metadata": {},
     "output_type": "execute_result"
    }
   ],
   "source": [
    "test13(18,22,34,5)"
   ]
  },
  {
   "cell_type": "code",
   "execution_count": 98,
   "id": "00880161-4eb6-4778-b1c5-ca05e06744a4",
   "metadata": {},
   "outputs": [
    {
     "data": {
      "text/plain": [
       "function"
      ]
     },
     "execution_count": 98,
     "metadata": {},
     "output_type": "execute_result"
    }
   ],
   "source": [
    "type(test13)"
   ]
  },
  {
   "cell_type": "code",
   "execution_count": 101,
   "id": "2598a742-350d-42f9-9606-788247d69a3f",
   "metadata": {},
   "outputs": [],
   "source": [
    "def test15(**kwargs):#it use we used for junerly to get values in key value pairs\n",
    "    return kwargs"
   ]
  },
  {
   "cell_type": "code",
   "execution_count": 102,
   "id": "7a48a7a9-d4a7-44fa-beb4-d3cf456e2d84",
   "metadata": {},
   "outputs": [
    {
     "data": {
      "text/plain": [
       "{}"
      ]
     },
     "execution_count": 102,
     "metadata": {},
     "output_type": "execute_result"
    }
   ],
   "source": [
    "test15()"
   ]
  },
  {
   "cell_type": "code",
   "execution_count": 103,
   "id": "15b0929c-df6d-4bc6-9fa4-4e4102887dfa",
   "metadata": {},
   "outputs": [
    {
     "data": {
      "text/plain": [
       "dict"
      ]
     },
     "execution_count": 103,
     "metadata": {},
     "output_type": "execute_result"
    }
   ],
   "source": [
    "type(test15())"
   ]
  },
  {
   "cell_type": "code",
   "execution_count": 104,
   "id": "cc070654-03cb-45e8-ba7a-1141c972bccd",
   "metadata": {},
   "outputs": [
    {
     "data": {
      "text/plain": [
       "{'a': [2, 3, 4, 5, 6, 7], 'b': 'sumit', 'c': {2, 3, 4, 5, 6, 10}}"
      ]
     },
     "execution_count": 104,
     "metadata": {},
     "output_type": "execute_result"
    }
   ],
   "source": [
    "test15(a=[2,3,4,5,6,7],b=\"sumit\",c={10,2,3,4,5,6})"
   ]
  },
  {
   "cell_type": "code",
   "execution_count": null,
   "id": "7f966414-711b-457d-8555-0acc0930ee41",
   "metadata": {},
   "outputs": [],
   "source": [
    "#Here we have got the result in key value pairs"
   ]
  }
 ],
 "metadata": {
  "kernelspec": {
   "display_name": "Python 3 (ipykernel)",
   "language": "python",
   "name": "python3"
  },
  "language_info": {
   "codemirror_mode": {
    "name": "ipython",
    "version": 3
   },
   "file_extension": ".py",
   "mimetype": "text/x-python",
   "name": "python",
   "nbconvert_exporter": "python",
   "pygments_lexer": "ipython3",
   "version": "3.10.8"
  }
 },
 "nbformat": 4,
 "nbformat_minor": 5
}
