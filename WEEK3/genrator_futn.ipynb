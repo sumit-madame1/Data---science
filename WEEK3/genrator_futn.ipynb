{
 "cells": [
  {
   "cell_type": "code",
   "execution_count": 1,
   "id": "e0765221-9547-42c7-8a12-aececf81fcef",
   "metadata": {},
   "outputs": [
    {
     "data": {
      "text/plain": [
       "range(0, 10)"
      ]
     },
     "execution_count": 1,
     "metadata": {},
     "output_type": "execute_result"
    }
   ],
   "source": [
    "range(10)"
   ]
  },
  {
   "cell_type": "code",
   "execution_count": 3,
   "id": "82afaeb2-d9ee-47a5-b8b7-45939246bcd3",
   "metadata": {},
   "outputs": [
    {
     "name": "stdout",
     "output_type": "stream",
     "text": [
      "0\n",
      "1\n",
      "2\n",
      "3\n",
      "4\n",
      "5\n",
      "6\n",
      "7\n",
      "8\n",
      "9\n"
     ]
    }
   ],
   "source": [
    "for i in range(10):\n",
    "    print(i)"
   ]
  },
  {
   "cell_type": "code",
   "execution_count": 9,
   "id": "d887740d-c6a9-4f9a-acbe-882ab637bad0",
   "metadata": {},
   "outputs": [],
   "source": [
    "#fibbionaci series\n",
    "\n",
    "def test_fib(n): #parameter passing n\n",
    "    a,b=0,1 \n",
    "    for i in range (n):\n",
    "        yield a\n",
    "        a,b= b,a+b\n",
    "    \n"
   ]
  },
  {
   "cell_type": "markdown",
   "id": "55951cd3-8ed3-47d3-8b3b-833038a65dce",
   "metadata": {},
   "source": [
    "a-0 b-1 -----> print 0 yield \n",
    "a= 1 b=1 \n",
    "a= 1, b=1+1=2 \n",
    "a =2 ,1+2 =3\n",
    "a= 3 ,2+3=5 \n",
    "a= 5 3+ 5 =8\n",
    "a=8 ,5+8=13\n",
    "a=13 b=8+13"
   ]
  },
  {
   "cell_type": "code",
   "execution_count": 10,
   "id": "2ffd6788-6096-4fb8-968a-9532fc5c09d6",
   "metadata": {},
   "outputs": [
    {
     "name": "stdout",
     "output_type": "stream",
     "text": [
      "0\n",
      "1\n",
      "1\n",
      "2\n",
      "3\n",
      "5\n",
      "8\n",
      "13\n",
      "21\n",
      "34\n"
     ]
    }
   ],
   "source": [
    "for i in test_fib(10):\n",
    "    print(i)"
   ]
  },
  {
   "cell_type": "code",
   "execution_count": null,
   "id": "a277c3a5-4ee7-4723-b8e1-16deb69da913",
   "metadata": {},
   "outputs": [],
   "source": [
    "#1<5 true yield 1 print count 1+1-2 count--2 print yield 2 ..2+1---3 3<n"
   ]
  },
  {
   "cell_type": "code",
   "execution_count": 11,
   "id": "ee31e0dc-8a35-4cdf-aa64-8dba22bb2052",
   "metadata": {},
   "outputs": [],
   "source": [
    "def test_fib1():\n",
    "    a,b = 0,1\n",
    "    while True:\n",
    "        yield a \n",
    "        a,b = b , a+b"
   ]
  },
  {
   "cell_type": "code",
   "execution_count": 12,
   "id": "710c89f5-5bbd-4ac7-81b1-b7cd54a9d7b3",
   "metadata": {},
   "outputs": [],
   "source": [
    "fib = test_fib1()"
   ]
  },
  {
   "cell_type": "code",
   "execution_count": 13,
   "id": "45add73e-69d1-4bf9-8f0f-c6325b3eccbf",
   "metadata": {},
   "outputs": [
    {
     "data": {
      "text/plain": [
       "generator"
      ]
     },
     "execution_count": 13,
     "metadata": {},
     "output_type": "execute_result"
    }
   ],
   "source": [
    "type(fib)"
   ]
  },
  {
   "cell_type": "code",
   "execution_count": 14,
   "id": "5dfef212-c57e-4638-89bc-00d30f527b9d",
   "metadata": {},
   "outputs": [
    {
     "name": "stdout",
     "output_type": "stream",
     "text": [
      "0\n",
      "1\n",
      "1\n",
      "2\n",
      "3\n",
      "5\n",
      "8\n",
      "13\n",
      "21\n",
      "34\n"
     ]
    }
   ],
   "source": [
    "for i in range(10):\n",
    "    print(next(fib))\n"
   ]
  },
  {
   "cell_type": "code",
   "execution_count": 16,
   "id": "252410b8-e3b6-4682-a7bb-4e0cd7c7c65b",
   "metadata": {},
   "outputs": [
    {
     "name": "stdout",
     "output_type": "stream",
     "text": [
      "s\n",
      "u\n",
      "m\n",
      "i\n",
      "t\n"
     ]
    }
   ],
   "source": [
    "s =\"sumit\"\n",
    "\n",
    "for i in  s:\n",
    "    print(i)"
   ]
  },
  {
   "cell_type": "code",
   "execution_count": 17,
   "id": "028dba4c-507f-4937-9525-7e68c73a1cd9",
   "metadata": {},
   "outputs": [
    {
     "data": {
      "text/plain": [
       "'sumit'"
      ]
     },
     "execution_count": 17,
     "metadata": {},
     "output_type": "execute_result"
    }
   ],
   "source": [
    "s"
   ]
  },
  {
   "cell_type": "code",
   "execution_count": 18,
   "id": "c34fd1b8-3fde-43a8-ae4a-2003d4c7be66",
   "metadata": {},
   "outputs": [
    {
     "ename": "TypeError",
     "evalue": "'str' object is not an iterator",
     "output_type": "error",
     "traceback": [
      "\u001b[0;31m---------------------------------------------------------------------------\u001b[0m",
      "\u001b[0;31mTypeError\u001b[0m                                 Traceback (most recent call last)",
      "Cell \u001b[0;32mIn[18], line 1\u001b[0m\n\u001b[0;32m----> 1\u001b[0m \u001b[38;5;28;43mnext\u001b[39;49m\u001b[43m(\u001b[49m\u001b[43ms\u001b[49m\u001b[43m)\u001b[49m\n",
      "\u001b[0;31mTypeError\u001b[0m: 'str' object is not an iterator"
     ]
    }
   ],
   "source": [
    "next(s)"
   ]
  },
  {
   "cell_type": "code",
   "execution_count": 19,
   "id": "dee371b9-77ff-4ae2-ae7a-335f4f519e45",
   "metadata": {},
   "outputs": [
    {
     "data": {
      "text/plain": [
       "<str_iterator at 0x7f8d7426b5e0>"
      ]
     },
     "execution_count": 19,
     "metadata": {},
     "output_type": "execute_result"
    }
   ],
   "source": [
    "iter(s)"
   ]
  },
  {
   "cell_type": "code",
   "execution_count": 20,
   "id": "dd37abf6-066b-434f-a386-8b4169f54189",
   "metadata": {},
   "outputs": [],
   "source": [
    "s1=iter(s)"
   ]
  },
  {
   "cell_type": "code",
   "execution_count": 21,
   "id": "86dcf919-80e6-4a1b-bcf1-b7a330ea2c95",
   "metadata": {},
   "outputs": [
    {
     "data": {
      "text/plain": [
       "str_iterator"
      ]
     },
     "execution_count": 21,
     "metadata": {},
     "output_type": "execute_result"
    }
   ],
   "source": [
    "type(s1)"
   ]
  },
  {
   "cell_type": "code",
   "execution_count": 22,
   "id": "40175e2a-f38e-48c4-b9db-606949f8e727",
   "metadata": {},
   "outputs": [
    {
     "data": {
      "text/plain": [
       "'s'"
      ]
     },
     "execution_count": 22,
     "metadata": {},
     "output_type": "execute_result"
    }
   ],
   "source": [
    "next(s1)"
   ]
  },
  {
   "cell_type": "code",
   "execution_count": 23,
   "id": "b0fd150a-e75c-41f6-b485-b662ed525a0a",
   "metadata": {},
   "outputs": [
    {
     "data": {
      "text/plain": [
       "'u'"
      ]
     },
     "execution_count": 23,
     "metadata": {},
     "output_type": "execute_result"
    }
   ],
   "source": [
    "next(s1)\n"
   ]
  },
  {
   "cell_type": "code",
   "execution_count": 24,
   "id": "ea8b2919-ec3d-4ecb-b4dc-e78181edacd4",
   "metadata": {},
   "outputs": [
    {
     "data": {
      "text/plain": [
       "'m'"
      ]
     },
     "execution_count": 24,
     "metadata": {},
     "output_type": "execute_result"
    }
   ],
   "source": [
    "next(s1)"
   ]
  },
  {
   "cell_type": "code",
   "execution_count": 25,
   "id": "59459eaf-93d1-48e3-a3b4-996e4ed98641",
   "metadata": {},
   "outputs": [
    {
     "data": {
      "text/plain": [
       "'i'"
      ]
     },
     "execution_count": 25,
     "metadata": {},
     "output_type": "execute_result"
    }
   ],
   "source": [
    "next(s1)"
   ]
  },
  {
   "cell_type": "code",
   "execution_count": 26,
   "id": "06353aa9-7a8d-4a75-8255-25815d30ff52",
   "metadata": {},
   "outputs": [
    {
     "data": {
      "text/plain": [
       "'t'"
      ]
     },
     "execution_count": 26,
     "metadata": {},
     "output_type": "execute_result"
    }
   ],
   "source": [
    "next(s1)"
   ]
  },
  {
   "cell_type": "code",
   "execution_count": 29,
   "id": "838423a0-30b2-4d06-8a5a-4f23f462cbd9",
   "metadata": {},
   "outputs": [],
   "source": [
    "s=45"
   ]
  },
  {
   "cell_type": "code",
   "execution_count": 31,
   "id": "2574fb48-24ea-45f0-ba7f-72069d9b5697",
   "metadata": {},
   "outputs": [
    {
     "ename": "TypeError",
     "evalue": "'int' object is not an iterator",
     "output_type": "error",
     "traceback": [
      "\u001b[0;31m---------------------------------------------------------------------------\u001b[0m",
      "\u001b[0;31mTypeError\u001b[0m                                 Traceback (most recent call last)",
      "Cell \u001b[0;32mIn[31], line 1\u001b[0m\n\u001b[0;32m----> 1\u001b[0m \u001b[38;5;28;43mnext\u001b[39;49m\u001b[43m(\u001b[49m\u001b[38;5;241;43m45\u001b[39;49m\u001b[43m)\u001b[49m\n",
      "\u001b[0;31mTypeError\u001b[0m: 'int' object is not an iterator"
     ]
    }
   ],
   "source": [
    "next(45)"
   ]
  },
  {
   "cell_type": "code",
   "execution_count": 30,
   "id": "08885185-002a-42c1-a9ff-f2a70d06d31e",
   "metadata": {},
   "outputs": [
    {
     "ename": "TypeError",
     "evalue": "'int' object is not iterable",
     "output_type": "error",
     "traceback": [
      "\u001b[0;31m---------------------------------------------------------------------------\u001b[0m",
      "\u001b[0;31mTypeError\u001b[0m                                 Traceback (most recent call last)",
      "Cell \u001b[0;32mIn[30], line 1\u001b[0m\n\u001b[0;32m----> 1\u001b[0m sss \u001b[38;5;241m=\u001b[39m \u001b[38;5;28;43miter\u001b[39;49m\u001b[43m(\u001b[49m\u001b[43ms\u001b[49m\u001b[43m)\u001b[49m\n",
      "\u001b[0;31mTypeError\u001b[0m: 'int' object is not iterable"
     ]
    }
   ],
   "source": [
    "sss = iter(s)"
   ]
  },
  {
   "cell_type": "code",
   "execution_count": 33,
   "id": "3a1ced62-837b-43d5-8ce8-8cbd59d3a0dc",
   "metadata": {},
   "outputs": [
    {
     "name": "stdout",
     "output_type": "stream",
     "text": [
      "1\n",
      "2\n",
      "3\n",
      "4\n",
      "5\n",
      "6\n"
     ]
    }
   ],
   "source": [
    "def count_num (n):\n",
    "    count=1\n",
    "    while count<7:\n",
    "        yield count\n",
    "        count =count+1\n",
    "c= count_num(5) #creating obj\n",
    "for i in c:\n",
    "    print(i)\n"
   ]
  },
  {
   "cell_type": "markdown",
   "id": "2d1b3363-f589-4dfb-84cb-e024f5ad638f",
   "metadata": {},
   "source": [
    "1<5 true yield 1 print \n",
    "   count 1+1-2  count--2  print yield 2 ..2+1---3 3<n"
   ]
  }
 ],
 "metadata": {
  "kernelspec": {
   "display_name": "Python 3 (ipykernel)",
   "language": "python",
   "name": "python3"
  },
  "language_info": {
   "codemirror_mode": {
    "name": "ipython",
    "version": 3
   },
   "file_extension": ".py",
   "mimetype": "text/x-python",
   "name": "python",
   "nbconvert_exporter": "python",
   "pygments_lexer": "ipython3",
   "version": "3.10.8"
  }
 },
 "nbformat": 4,
 "nbformat_minor": 5
}
