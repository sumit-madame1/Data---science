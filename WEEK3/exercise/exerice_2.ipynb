{
 "cells": [
  {
   "cell_type": "code",
   "execution_count": 8,
   "id": "fbf8f454-ed77-431e-a94a-ee85248e35ee",
   "metadata": {},
   "outputs": [],
   "source": [
    "\"\"\" Q1. Create a python program to sort the given list of tuples based on integer value using a\n",
    "lambda function.\"\"\"\n",
    "\n",
    "\n",
    "#Ans:- \n",
    "t= [('Sachin Tendulkar', 34357), ('Ricky Ponting', 27483), ('Jack Kallis', 25534), ('Virat Kohli', 24936)]\n",
    "\n",
    "type(t)\n",
    "\n",
    "sorted_players = sorted(t, key=lambda x: x[1], reverse=True)\n"
   ]
  },
  {
   "cell_type": "code",
   "execution_count": 9,
   "id": "9f555b3c-957b-4d59-b361-bf9e1736958b",
   "metadata": {},
   "outputs": [],
   "source": [
    "print(sorted_players)\n"
   ]
  },
  {
   "cell_type": "code",
   "execution_count": 11,
   "id": "f0b312e3-642c-4f23-9ac9-55ed51ddee2f",
   "metadata": {},
   "outputs": [
    {
     "data": {
      "text/plain": [
       "[1, 4, 9, 16, 25, 36, 49, 64, 81, 100]"
      ]
     },
     "execution_count": 11,
     "metadata": {},
     "output_type": "execute_result"
    }
   ],
   "source": [
    "\"\"\"Q2. Write a Python Program to find the squares of all the numbers in the given list of integers using\n",
    "lambda and map functions.\n",
    "[1, 2, 3, 4, 5, 6, 7, 8, 9, 10]\"\"\"\n",
    "\n",
    "l =[1,2,3,4,5,6,7,8,9,10]\n",
    "\n",
    "list(map(lambda x: x**2,l))"
   ]
  },
  {
   "cell_type": "code",
   "execution_count": 23,
   "id": "6c880272-39b5-47d6-8882-c3cb4d323361",
   "metadata": {},
   "outputs": [
    {
     "name": "stdout",
     "output_type": "stream",
     "text": [
      "('1', '2', '3', '4', '5', '6', '7', '8', '9', '10')\n"
     ]
    }
   ],
   "source": [
    "\"\"\"\n",
    "Q3. Write a python program to convert the given list of integers into a tuple of strings. Use map and\n",
    "lambda functions\n",
    "Given String: [1, 2, 3, 4, 5, 6, 7, 8, 9, 10]\n",
    "Expected output: ('1', '2', '3', '4', '5', '6', '7', '8', '9', '10')\"\"\"\n",
    "\n",
    "number=[1,2,3,4,5,6,7,8,9,10]\n",
    "output=tuple(map(lambda x:str(x),number))\n",
    "\n",
    "print(output)\n",
    "\n"
   ]
  },
  {
   "cell_type": "code",
   "execution_count": 33,
   "id": "5715bb3c-f361-45a8-a69e-df7924e30184",
   "metadata": {},
   "outputs": [
    {
     "name": "stdout",
     "output_type": "stream",
     "text": [
      "620448401733239439360000\n"
     ]
    }
   ],
   "source": [
    "\"\"\"Q4. Write a python program using reduce function to compute the product of a list containing numbers\n",
    "from 1 to 25.\"\"\"\n",
    "\n",
    "from functools import reduce\n",
    "\n",
    "numbers = range(1,25)\n",
    "\n",
    "prod = reduce(lambda x,y :x*y, numbers)\n",
    "\n",
    "print(prod )"
   ]
  },
  {
   "cell_type": "code",
   "execution_count": 44,
   "id": "558040e1-a34d-42b5-8afa-ef21bd637adc",
   "metadata": {},
   "outputs": [
    {
     "name": "stdout",
     "output_type": "stream",
     "text": [
      "[6, 60, 90, 120]\n"
     ]
    }
   ],
   "source": [
    "''' Q5. Write a python program to filter the numbers in a given list that are divisible by 2 and 3 using the\n",
    "filter function. '''\n",
    "l= [2, 3, 6, 9, 27, 60, 90, 120, 55, 46]\n",
    "\n",
    "div = list(filter(lambda x : x % 2 ==0 and x %3 ==0 ,l))\n",
    "\n",
    "print(div)\n",
    "           \n",
    "\n",
    "\n",
    "           "
   ]
  },
  {
   "cell_type": "code",
   "execution_count": 56,
   "id": "57b79836-ac4f-473b-a253-e32391c09572",
   "metadata": {},
   "outputs": [
    {
     "name": "stdout",
     "output_type": "stream",
     "text": [
      "orignal list ['python', 'php', 'aba', 'radar', 'level']\n",
      "palindrome_list ['php', 'aba', 'radar', 'level']\n"
     ]
    }
   ],
   "source": [
    "\"\"\"Q6. Write a python program to find palindromes in the given list of strings using lambda and filter\n",
    "function. \"\"\"\n",
    "\n",
    "l= ['python', 'php', 'aba', 'radar', 'level']\n",
    "\n",
    "print(\"orignal list\",l)\n",
    "\n",
    "palindrom= list(filter(lambda x: (x == \"\".join(reversed(x))),l)) \n",
    "print(\"palindrome_list\",palindrom)\n",
    "\n",
    "\n",
    "\n",
    "\n",
    "\n",
    "\n"
   ]
  },
  {
   "cell_type": "code",
   "execution_count": 55,
   "id": "0caecfa3-2d62-4f21-8709-e34fb3091739",
   "metadata": {},
   "outputs": [
    {
     "name": "stdout",
     "output_type": "stream",
     "text": [
      "palindrome_list ['php', 'aba', 'radar', 'level']\n"
     ]
    }
   ],
   "source": []
  },
  {
   "cell_type": "code",
   "execution_count": null,
   "id": "d5784e24-4ecb-40a4-82a8-943aa9698905",
   "metadata": {},
   "outputs": [],
   "source": []
  }
 ],
 "metadata": {
  "kernelspec": {
   "display_name": "Python 3 (ipykernel)",
   "language": "python",
   "name": "python3"
  },
  "language_info": {
   "codemirror_mode": {
    "name": "ipython",
    "version": 3
   },
   "file_extension": ".py",
   "mimetype": "text/x-python",
   "name": "python",
   "nbconvert_exporter": "python",
   "pygments_lexer": "ipython3",
   "version": "3.10.8"
  }
 },
 "nbformat": 4,
 "nbformat_minor": 5
}
