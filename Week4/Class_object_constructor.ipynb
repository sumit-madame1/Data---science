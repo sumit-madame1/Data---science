{
  "nbformat": 4,
  "nbformat_minor": 0,
  "metadata": {
    "colab": {
      "provenance": []
    },
    "kernelspec": {
      "name": "python3",
      "display_name": "Python 3"
    },
    "language_info": {
      "name": "python"
    }
  },
  "cells": [
    {
      "cell_type": "markdown",
      "source": [],
      "metadata": {
        "id": "47EavwKaiwfu"
      }
    },
    {
      "cell_type": "markdown",
      "source": [
        "#OOPL (OBJECT_ORIENTED_PROGRAMING_LAN)\n"
      ],
      "metadata": {
        "id": "bkfYPd-1iq3X"
      }
    },
    {
      "cell_type": "markdown",
      "source": [],
      "metadata": {
        "id": "Hfo_7FxCipG4"
      }
    },
    {
      "cell_type": "code",
      "execution_count": 7,
      "metadata": {
        "colab": {
          "base_uri": "https://localhost:8080/"
        },
        "id": "HuDtl6tFimgv",
        "outputId": "010f4a3e-f79a-42a3-f051-00335b6ffa3a"
      },
      "outputs": [
        {
          "output_type": "stream",
          "name": "stdout",
          "text": [
            "<class 'int'>\n"
          ]
        }
      ],
      "source": [
        "A= 10\n",
        "type(A)\n",
        "print(type(A))"
      ]
    },
    {
      "cell_type": "code",
      "source": [
        "class Test():\n",
        "  pass       #without pass keyword it will give an error as a incomplete input"
      ],
      "metadata": {
        "id": "Y1QE4UBNjM7y"
      },
      "execution_count": 3,
      "outputs": []
    },
    {
      "cell_type": "code",
      "source": [
        "a=Test()"
      ],
      "metadata": {
        "id": "YNd7ivQgjS58"
      },
      "execution_count": 5,
      "outputs": []
    },
    {
      "cell_type": "code",
      "source": [
        "print(type(a))"
      ],
      "metadata": {
        "colab": {
          "base_uri": "https://localhost:8080/"
        },
        "id": "IJ3kgREDjliH",
        "outputId": "87ba9ed4-14f1-43ed-e9a3-7ba490fb2f99"
      },
      "execution_count": 6,
      "outputs": [
        {
          "output_type": "stream",
          "name": "stdout",
          "text": [
            "<class '__main__.Test'>\n"
          ]
        }
      ]
    },
    {
      "cell_type": "code",
      "source": [
        "#HOW TO CREATE CLASS WITH AN OBJECT EX:\n",
        "class pwskills:\n",
        "  def welcome_message(self):\n",
        "    print(\"WELCOME SUMIT\")\n"
      ],
      "metadata": {
        "id": "AZVEe8fujryZ"
      },
      "execution_count": 8,
      "outputs": []
    },
    {
      "cell_type": "code",
      "source": [
        "sumit=pwskills()\n",
        "print(type(sumit))"
      ],
      "metadata": {
        "colab": {
          "base_uri": "https://localhost:8080/"
        },
        "id": "jEauAyZbkIFL",
        "outputId": "914c4021-9332-4a6b-d8ee-465c08c686dd"
      },
      "execution_count": 14,
      "outputs": [
        {
          "output_type": "stream",
          "name": "stdout",
          "text": [
            "<class '__main__.pwskills'>\n"
          ]
        }
      ]
    },
    {
      "cell_type": "code",
      "source": [
        "sumit.welcome_message()"
      ],
      "metadata": {
        "colab": {
          "base_uri": "https://localhost:8080/"
        },
        "id": "4O0vVaD-kL_t",
        "outputId": "fd5bfa26-f2bc-4f58-a024-df3e456a4dfa"
      },
      "execution_count": 13,
      "outputs": [
        {
          "output_type": "stream",
          "name": "stdout",
          "text": [
            "WLCOME SUMIT\n"
          ]
        }
      ]
    },
    {
      "cell_type": "code",
      "source": [
        "sadu = pwskills()\n"
      ],
      "metadata": {
        "id": "QAbRv4cUkQ6x"
      },
      "execution_count": 15,
      "outputs": []
    },
    {
      "cell_type": "code",
      "source": [
        "sadu.welcome_message()"
      ],
      "metadata": {
        "colab": {
          "base_uri": "https://localhost:8080/"
        },
        "id": "_YQIUXpFkooU",
        "outputId": "3cfd9df2-277a-48f8-8db4-0df4b5ace405"
      },
      "execution_count": 16,
      "outputs": [
        {
          "output_type": "stream",
          "name": "stdout",
          "text": [
            "WLCOME SUMIT\n"
          ]
        }
      ]
    },
    {
      "cell_type": "code",
      "source": [],
      "metadata": {
        "id": "HC9xKN9kkryE"
      },
      "execution_count": null,
      "outputs": []
    },
    {
      "cell_type": "markdown",
      "source": [
        "for student data in this code we will learn constructor\n"
      ],
      "metadata": {
        "id": "7HjVklj1kyQJ"
      }
    },
    {
      "cell_type": "code",
      "source": [
        "class pwskills7:\n",
        "  def __init__(self,phone_number,id,email):\n",
        "    self.ph_number = phone_number\n",
        "    self.id = id\n",
        "    self.email = email\n",
        "  def return_data(self):\n",
        "    return self.ph_number,self.id,  self.email\n"
      ],
      "metadata": {
        "id": "NFBYoM_-k5pD"
      },
      "execution_count": 21,
      "outputs": []
    },
    {
      "cell_type": "code",
      "source": [
        "sumit = pwskills7(7447642447,1024,\"sk@ok.com\")"
      ],
      "metadata": {
        "id": "eo3I7VgHlq4C"
      },
      "execution_count": 22,
      "outputs": []
    },
    {
      "cell_type": "code",
      "source": [
        "sumit.return_data()"
      ],
      "metadata": {
        "colab": {
          "base_uri": "https://localhost:8080/"
        },
        "id": "tnfsq0YamPaB",
        "outputId": "d5ca67dc-dab4-4638-a052-303b2dc033de"
      },
      "execution_count": 24,
      "outputs": [
        {
          "output_type": "execute_result",
          "data": {
            "text/plain": [
              "(7447642447, 1024, 'sk@ok.com')"
            ]
          },
          "metadata": {},
          "execution_count": 24
        }
      ]
    },
    {
      "cell_type": "code",
      "source": [
        "sumit.ph_number"
      ],
      "metadata": {
        "colab": {
          "base_uri": "https://localhost:8080/"
        },
        "id": "Ud8Np6ccm2ET",
        "outputId": "a622aa77-912a-4756-87bc-24e74cde3651"
      },
      "execution_count": 26,
      "outputs": [
        {
          "output_type": "execute_result",
          "data": {
            "text/plain": [
              "7447642447"
            ]
          },
          "metadata": {},
          "execution_count": 26
        }
      ]
    },
    {
      "cell_type": "code",
      "source": [
        "sumit.id"
      ],
      "metadata": {
        "colab": {
          "base_uri": "https://localhost:8080/"
        },
        "id": "u8q8lGulm7fE",
        "outputId": "5bc2ace8-8f01-4e45-80c6-815ac3b70c2b"
      },
      "execution_count": 27,
      "outputs": [
        {
          "output_type": "execute_result",
          "data": {
            "text/plain": [
              "1024"
            ]
          },
          "metadata": {},
          "execution_count": 27
        }
      ]
    },
    {
      "cell_type": "code",
      "source": [
        "sumit.email"
      ],
      "metadata": {
        "colab": {
          "base_uri": "https://localhost:8080/",
          "height": 36
        },
        "id": "Q1vlEU8bm_9N",
        "outputId": "7a85ff55-15a9-490a-afd4-ac2fd357cb42"
      },
      "execution_count": 28,
      "outputs": [
        {
          "output_type": "execute_result",
          "data": {
            "text/plain": [
              "'sk@ok.com'"
            ],
            "application/vnd.google.colaboratory.intrinsic+json": {
              "type": "string"
            }
          },
          "metadata": {},
          "execution_count": 28
        }
      ]
    },
    {
      "cell_type": "code",
      "source": [
        "class car:\n",
        "  def __init__(sumit,name,color,price,city,size):\n",
        "    sumit.car_name= name\n",
        "    sumit.car_color= color\n",
        "    sumit.car_price =price\n",
        "    sumit.car_city = city\n",
        "    sumit.car_size =size\n",
        "  def return_car_details(sumit):\n",
        "    return  sumit.car_name,sumit.car_color,sumit.car_price,sumit.car_city,sumit.car_size\n",
        ""
      ],
      "metadata": {
        "id": "Rcmjc1NmnB1W"
      },
      "execution_count": 30,
      "outputs": []
    },
    {
      "cell_type": "code",
      "source": [
        "bmw =car(\"X7\",\"RED\",5000000,\"GOA\",\"4*4\")"
      ],
      "metadata": {
        "id": "7c9agAKdoLr1"
      },
      "execution_count": 31,
      "outputs": []
    },
    {
      "cell_type": "code",
      "source": [
        "bmw.return_car_details()"
      ],
      "metadata": {
        "colab": {
          "base_uri": "https://localhost:8080/"
        },
        "id": "2rTheG3dpMLR",
        "outputId": "f1cfebee-c6da-4625-92d5-9f5958029389"
      },
      "execution_count": 32,
      "outputs": [
        {
          "output_type": "execute_result",
          "data": {
            "text/plain": [
              "('X7', 'RED', 5000000, 'GOA', '4*4')"
            ]
          },
          "metadata": {},
          "execution_count": 32
        }
      ]
    },
    {
      "cell_type": "code",
      "source": [
        "bmw.car_name"
      ],
      "metadata": {
        "colab": {
          "base_uri": "https://localhost:8080/",
          "height": 36
        },
        "id": "ZLRCsvp-pQ21",
        "outputId": "cd8d67ac-6324-4b83-d9cf-60b986d4fc1e"
      },
      "execution_count": 33,
      "outputs": [
        {
          "output_type": "execute_result",
          "data": {
            "text/plain": [
              "'X7'"
            ],
            "application/vnd.google.colaboratory.intrinsic+json": {
              "type": "string"
            }
          },
          "metadata": {},
          "execution_count": 33
        }
      ]
    },
    {
      "cell_type": "code",
      "source": [
        "bmw.car_price"
      ],
      "metadata": {
        "colab": {
          "base_uri": "https://localhost:8080/"
        },
        "id": "9EQq-L3YpXUM",
        "outputId": "ef440e44-8844-4166-a3a6-09d092855bb2"
      },
      "execution_count": 34,
      "outputs": [
        {
          "output_type": "execute_result",
          "data": {
            "text/plain": [
              "5000000"
            ]
          },
          "metadata": {},
          "execution_count": 34
        }
      ]
    },
    {
      "cell_type": "code",
      "source": [
        "bmw.car_color"
      ],
      "metadata": {
        "colab": {
          "base_uri": "https://localhost:8080/",
          "height": 36
        },
        "id": "uaEh0awnpbQE",
        "outputId": "708a4f1f-0d7b-4caa-c01d-cb47bb63137f"
      },
      "execution_count": 35,
      "outputs": [
        {
          "output_type": "execute_result",
          "data": {
            "text/plain": [
              "'RED'"
            ],
            "application/vnd.google.colaboratory.intrinsic+json": {
              "type": "string"
            }
          },
          "metadata": {},
          "execution_count": 35
        }
      ]
    },
    {
      "cell_type": "code",
      "source": [
        "bmw.car_city"
      ],
      "metadata": {
        "colab": {
          "base_uri": "https://localhost:8080/",
          "height": 36
        },
        "id": "PqWac28rpgvs",
        "outputId": "1a1df2f5-48a1-44fe-e81e-6aced8475923"
      },
      "execution_count": 36,
      "outputs": [
        {
          "output_type": "execute_result",
          "data": {
            "text/plain": [
              "'GOA'"
            ],
            "application/vnd.google.colaboratory.intrinsic+json": {
              "type": "string"
            }
          },
          "metadata": {},
          "execution_count": 36
        }
      ]
    },
    {
      "cell_type": "code",
      "source": [
        "bmw.car_size"
      ],
      "metadata": {
        "colab": {
          "base_uri": "https://localhost:8080/",
          "height": 36
        },
        "id": "fQi98Fdgpks9",
        "outputId": "41012ae9-c308-4581-d35f-45a3e0ba4c01"
      },
      "execution_count": 37,
      "outputs": [
        {
          "output_type": "execute_result",
          "data": {
            "text/plain": [
              "'4*4'"
            ],
            "application/vnd.google.colaboratory.intrinsic+json": {
              "type": "string"
            }
          },
          "metadata": {},
          "execution_count": 37
        }
      ]
    },
    {
      "cell_type": "code",
      "source": [],
      "metadata": {
        "id": "bVmz8uo3ppx-"
      },
      "execution_count": null,
      "outputs": []
    }
  ]
}