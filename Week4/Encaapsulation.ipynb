{
  "nbformat": 4,
  "nbformat_minor": 0,
  "metadata": {
    "colab": {
      "provenance": []
    },
    "kernelspec": {
      "name": "python3",
      "display_name": "Python 3"
    },
    "language_info": {
      "name": "python"
    }
  },
  "cells": [
    {
      "cell_type": "markdown",
      "source": [],
      "metadata": {
        "id": "YdNBQexJXwU4"
      }
    },
    {
      "cell_type": "markdown",
      "source": [
        "ENCAPSULATION :- it means wrapping up data and member futn together into single unit this is called as encapsulation\n",
        "(methods and varible inside the class) we never show it publickly\n",
        "\n",
        "syntax:-\n",
        "\n",
        "class car :\n",
        "    def __init__(self , year , make , model, speed ) :\n",
        "        \n",
        "        self.__year = year\n",
        "        self.__make = make\n",
        "        self.__model = model\n",
        "        self.__speed = 0"
      ],
      "metadata": {
        "id": "JVdE8JVxXyxm"
      }
    },
    {
      "cell_type": "markdown",
      "source": [],
      "metadata": {
        "id": "i7UVWnZGXyt_"
      }
    },
    {
      "cell_type": "code",
      "execution_count": 2,
      "metadata": {
        "id": "fbsp-MMjW7Z4"
      },
      "outputs": [],
      "source": [
        "class test:\n",
        "  def  __init__(self,a,b):\n",
        "    self.a =a\n",
        "    self.b =b                #for that we will use encapsulation so user cant modifed the values so below is great example user have modifed two value also he can we all varible with tab\n",
        "\n",
        "\n"
      ]
    },
    {
      "cell_type": "code",
      "source": [
        "am = test(10,20)"
      ],
      "metadata": {
        "id": "ydD5fT61Ywuf"
      },
      "execution_count": 4,
      "outputs": []
    },
    {
      "cell_type": "code",
      "source": [
        "am.a"
      ],
      "metadata": {
        "colab": {
          "base_uri": "https://localhost:8080/"
        },
        "id": "50QdozjPZGPn",
        "outputId": "485bc05f-8ccd-4599-f444-17a57b981a54"
      },
      "execution_count": 8,
      "outputs": [
        {
          "output_type": "execute_result",
          "data": {
            "text/plain": [
              "10"
            ]
          },
          "metadata": {},
          "execution_count": 8
        }
      ]
    },
    {
      "cell_type": "code",
      "source": [
        "am.a =1010"
      ],
      "metadata": {
        "id": "BUC9-_lKZL79"
      },
      "execution_count": 9,
      "outputs": []
    },
    {
      "cell_type": "code",
      "source": [
        "am.a"
      ],
      "metadata": {
        "colab": {
          "base_uri": "https://localhost:8080/"
        },
        "id": "UhA246-vZbEA",
        "outputId": "c4dde51f-fdf7-4fb6-ae73-eaef17832cd4"
      },
      "execution_count": 10,
      "outputs": [
        {
          "output_type": "execute_result",
          "data": {
            "text/plain": [
              "1010"
            ]
          },
          "metadata": {},
          "execution_count": 10
        }
      ]
    },
    {
      "cell_type": "code",
      "source": [
        "am.b"
      ],
      "metadata": {
        "colab": {
          "base_uri": "https://localhost:8080/"
        },
        "id": "3BRc_nuoZcX1",
        "outputId": "641f8447-0ec0-45d0-9bb6-c12ea263e3c4"
      },
      "execution_count": 11,
      "outputs": [
        {
          "output_type": "execute_result",
          "data": {
            "text/plain": [
              "20"
            ]
          },
          "metadata": {},
          "execution_count": 11
        }
      ]
    },
    {
      "cell_type": "markdown",
      "source": [
        "now we are going learn encapsulation with the help of some great examples\n",
        "\n"
      ],
      "metadata": {
        "id": "_1wnnzOYZznh"
      }
    },
    {
      "cell_type": "code",
      "source": [
        "class car:\n",
        "  def __init__(self,year,make,model,speed):\n",
        "    self.__year = year\n",
        "    self.__make = make\n",
        "    self.__model =  model\n",
        "    self.__speed = 0\n",
        "\n",
        "\n",
        "# this is pvt varible that no one can view\n",
        "  def set_speed(self,speed):\n",
        "    self.__speed = 0 if speed < 0 else speed\n",
        "\n",
        "  def get_speed(self):\n",
        "    return self.__speed\n",
        "\n",
        "\n",
        "\n",
        "\n",
        "\n"
      ],
      "metadata": {
        "id": "i_IdpBDNfNEy"
      },
      "execution_count": 33,
      "outputs": []
    },
    {
      "cell_type": "code",
      "source": [
        "set_kar = car(2021 , \"toyata\" , \"innova\" , 12)"
      ],
      "metadata": {
        "id": "-TiOnyb0f-xV"
      },
      "execution_count": 34,
      "outputs": []
    },
    {
      "cell_type": "code",
      "source": [
        "set_kar._car__year"
      ],
      "metadata": {
        "colab": {
          "base_uri": "https://localhost:8080/"
        },
        "id": "n9mCAiyng67y",
        "outputId": "166e6532-d425-4189-ef2b-f6b3e019b71b"
      },
      "execution_count": 35,
      "outputs": [
        {
          "output_type": "execute_result",
          "data": {
            "text/plain": [
              "2021"
            ]
          },
          "metadata": {},
          "execution_count": 35
        }
      ]
    },
    {
      "cell_type": "code",
      "source": [
        "set_kar._car__speed\n"
      ],
      "metadata": {
        "colab": {
          "base_uri": "https://localhost:8080/"
        },
        "id": "ev_GSc2OhQwp",
        "outputId": "24472edb-abfe-4003-9d29-fbe4320c4fb4"
      },
      "execution_count": 36,
      "outputs": [
        {
          "output_type": "execute_result",
          "data": {
            "text/plain": [
              "0"
            ]
          },
          "metadata": {},
          "execution_count": 36
        }
      ]
    },
    {
      "cell_type": "code",
      "source": [
        "set_kar.set_speed(1010)"
      ],
      "metadata": {
        "id": "gakJqacNio1p"
      },
      "execution_count": 37,
      "outputs": []
    },
    {
      "cell_type": "code",
      "source": [
        "set_kar.get_speed()"
      ],
      "metadata": {
        "colab": {
          "base_uri": "https://localhost:8080/"
        },
        "id": "GKAejJqKi7Hv",
        "outputId": "109eea13-2c63-4e56-9ea4-307698acb2f9"
      },
      "execution_count": 38,
      "outputs": [
        {
          "output_type": "execute_result",
          "data": {
            "text/plain": [
              "1010"
            ]
          },
          "metadata": {},
          "execution_count": 38
        }
      ]
    },
    {
      "cell_type": "code",
      "source": [
        "set_kar.set_speed(0)"
      ],
      "metadata": {
        "id": "YrE3BePci_Aa"
      },
      "execution_count": 39,
      "outputs": []
    },
    {
      "cell_type": "code",
      "source": [
        "set_kar.get_speed()"
      ],
      "metadata": {
        "colab": {
          "base_uri": "https://localhost:8080/"
        },
        "id": "pyIvum8yjmQe",
        "outputId": "4a3a0d68-b12c-4eb3-ddd8-db9df57cc525"
      },
      "execution_count": 40,
      "outputs": [
        {
          "output_type": "execute_result",
          "data": {
            "text/plain": [
              "0"
            ]
          },
          "metadata": {},
          "execution_count": 40
        }
      ]
    },
    {
      "cell_type": "code",
      "source": [
        "class bank_account:\n",
        "  def __init__(self,balance):\n",
        "    self.__balance = balance\n",
        "\n",
        "  def deposit(self,amount):\n",
        "    self.__balance = self.__balance + amount\n",
        "\n",
        "  def withdrawal(self,amount):\n",
        "    if  self.__balance  >= amount :\n",
        "      self.__balance= self.__balance-amount\n",
        "      #return True\n",
        "      return \"withdrawal  process is proccesing\"\n",
        "    else:\n",
        "      #return False\n",
        "      return \"insufficient balance in your account\"\n",
        "\n",
        "  def get_balance(self):\n",
        "    return self.__balance\n",
        "\n",
        "\n",
        "\n",
        "\n"
      ],
      "metadata": {
        "id": "BRzu_-Yyjqpc"
      },
      "execution_count": 49,
      "outputs": []
    },
    {
      "cell_type": "code",
      "source": [
        "sumit = bank_account(1000)"
      ],
      "metadata": {
        "id": "Xiir_8XvmbZR"
      },
      "execution_count": 50,
      "outputs": []
    },
    {
      "cell_type": "code",
      "source": [
        "sumit.get_balance()"
      ],
      "metadata": {
        "colab": {
          "base_uri": "https://localhost:8080/"
        },
        "id": "ulgDvBJKmkQg",
        "outputId": "76b0650e-7a1b-49e7-90cc-e4bb95d6228c"
      },
      "execution_count": 51,
      "outputs": [
        {
          "output_type": "execute_result",
          "data": {
            "text/plain": [
              "1000"
            ]
          },
          "metadata": {},
          "execution_count": 51
        }
      ]
    },
    {
      "cell_type": "code",
      "source": [
        "sumit.deposit(60000)"
      ],
      "metadata": {
        "id": "2ZZ3Z8VLnxn0"
      },
      "execution_count": 52,
      "outputs": []
    },
    {
      "cell_type": "code",
      "source": [
        "sumit.get_balance()"
      ],
      "metadata": {
        "colab": {
          "base_uri": "https://localhost:8080/"
        },
        "id": "yvYNIVYsn2Lf",
        "outputId": "6d3ee04d-5fd5-4c30-a4bf-02238c942b76"
      },
      "execution_count": 54,
      "outputs": [
        {
          "output_type": "execute_result",
          "data": {
            "text/plain": [
              "61000"
            ]
          },
          "metadata": {},
          "execution_count": 54
        }
      ]
    },
    {
      "cell_type": "code",
      "source": [
        "sumit.withdrawal(5000)"
      ],
      "metadata": {
        "colab": {
          "base_uri": "https://localhost:8080/",
          "height": 36
        },
        "id": "VFkqWXKqn5ps",
        "outputId": "0b021b5e-a9a3-4763-e810-23eb802994b0"
      },
      "execution_count": 55,
      "outputs": [
        {
          "output_type": "execute_result",
          "data": {
            "text/plain": [
              "'withdrawal  process is proccesing'"
            ],
            "application/vnd.google.colaboratory.intrinsic+json": {
              "type": "string"
            }
          },
          "metadata": {},
          "execution_count": 55
        }
      ]
    },
    {
      "cell_type": "code",
      "source": [
        "sumit.get_balance()"
      ],
      "metadata": {
        "colab": {
          "base_uri": "https://localhost:8080/"
        },
        "id": "6p3y3Wy5oEE8",
        "outputId": "20759585-8a0f-4815-a3f4-b9afb1ed525e"
      },
      "execution_count": 56,
      "outputs": [
        {
          "output_type": "execute_result",
          "data": {
            "text/plain": [
              "56000"
            ]
          },
          "metadata": {},
          "execution_count": 56
        }
      ]
    },
    {
      "cell_type": "code",
      "source": [
        "61000-56000"
      ],
      "metadata": {
        "colab": {
          "base_uri": "https://localhost:8080/"
        },
        "id": "pUm6Icc2oKb2",
        "outputId": "42f7ce28-6c82-47dc-b136-882141233162"
      },
      "execution_count": 57,
      "outputs": [
        {
          "output_type": "execute_result",
          "data": {
            "text/plain": [
              "5000"
            ]
          },
          "metadata": {},
          "execution_count": 57
        }
      ]
    },
    {
      "cell_type": "code",
      "source": [
        "sumit.withdrawal(100000)"
      ],
      "metadata": {
        "colab": {
          "base_uri": "https://localhost:8080/",
          "height": 36
        },
        "id": "CSTh5T5ZoPbF",
        "outputId": "8d2b7894-cb9a-4333-dfe5-03c5e83966c7"
      },
      "execution_count": 58,
      "outputs": [
        {
          "output_type": "execute_result",
          "data": {
            "text/plain": [
              "'insufficient balance in your account'"
            ],
            "application/vnd.google.colaboratory.intrinsic+json": {
              "type": "string"
            }
          },
          "metadata": {},
          "execution_count": 58
        }
      ]
    },
    {
      "cell_type": "code",
      "source": [
        "\n"
      ],
      "metadata": {
        "id": "om1vFLjdoWHx"
      },
      "execution_count": null,
      "outputs": []
    }
  ]
}