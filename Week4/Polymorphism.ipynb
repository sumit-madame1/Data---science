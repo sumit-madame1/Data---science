{
  "nbformat": 4,
  "nbformat_minor": 0,
  "metadata": {
    "colab": {
      "provenance": []
    },
    "kernelspec": {
      "name": "python3",
      "display_name": "Python 3"
    },
    "language_info": {
      "name": "python"
    }
  },
  "cells": [
    {
      "cell_type": "code",
      "source": [
        "\n",
        "def test(a,b):\n",
        "  return a+b\n",
        "\n"
      ],
      "metadata": {
        "id": "VDeSGnoTGCUm"
      },
      "execution_count": 2,
      "outputs": []
    },
    {
      "cell_type": "code",
      "source": [
        "test(10,20)"
      ],
      "metadata": {
        "colab": {
          "base_uri": "https://localhost:8080/"
        },
        "id": "COG-O253IpG3",
        "outputId": "620f95b9-fe16-4973-b325-5c8722c3e1a5"
      },
      "execution_count": 3,
      "outputs": [
        {
          "output_type": "execute_result",
          "data": {
            "text/plain": [
              "30"
            ]
          },
          "metadata": {},
          "execution_count": 3
        }
      ]
    },
    {
      "cell_type": "code",
      "source": [
        "test(\"sumit\",\" ram\")"
      ],
      "metadata": {
        "colab": {
          "base_uri": "https://localhost:8080/",
          "height": 36
        },
        "id": "nAXlxaxRIr0K",
        "outputId": "a7b63c76-9aec-4d0d-89e3-b214dd262d51"
      },
      "execution_count": 5,
      "outputs": [
        {
          "output_type": "execute_result",
          "data": {
            "text/plain": [
              "'sumit ram'"
            ],
            "application/vnd.google.colaboratory.intrinsic+json": {
              "type": "string"
            }
          },
          "metadata": {},
          "execution_count": 5
        }
      ]
    },
    {
      "cell_type": "code",
      "source": [
        "test([10,20,30],[30,40,50])"
      ],
      "metadata": {
        "colab": {
          "base_uri": "https://localhost:8080/"
        },
        "id": "d-Xt6aWKIv6m",
        "outputId": "8658c303-b97a-4bf7-9370-6ef14d727719"
      },
      "execution_count": 6,
      "outputs": [
        {
          "output_type": "execute_result",
          "data": {
            "text/plain": [
              "[10, 20, 30, 30, 40, 50]"
            ]
          },
          "metadata": {},
          "execution_count": 6
        }
      ]
    },
    {
      "cell_type": "code",
      "source": [
        "test((10,20,30,\"sumit\"),(40,50,\"sahil\"))"
      ],
      "metadata": {
        "colab": {
          "base_uri": "https://localhost:8080/"
        },
        "id": "BodDFFt3I5Vq",
        "outputId": "759c8bb3-14a7-416e-c540-ff1278073ca5"
      },
      "execution_count": 7,
      "outputs": [
        {
          "output_type": "execute_result",
          "data": {
            "text/plain": [
              "(10, 20, 30, 'sumit', 40, 50, 'sahil')"
            ]
          },
          "metadata": {},
          "execution_count": 7
        }
      ]
    },
    {
      "cell_type": "code",
      "source": [
        "class data_science():\n",
        "  def time(self):\n",
        "    print(\"Morning class:-10AM\")\n",
        "  def type(self):\n",
        "    print(\"this is offline class:-Rajiv gandhi chowk\")\n",
        "  def price(self):\n",
        "    print(\"the price of class is :-700/-\")\n",
        "\n",
        "class web_dev():\n",
        "   def time(self):\n",
        "    print(\"Evening class :- 6PM\")\n",
        "   def type(self):\n",
        "    print(\"This is online class:-Teams\")\n",
        "   def price(self):\n",
        "    print(\"the price of class is :-350/-\")\n",
        "\n",
        "\n",
        "\n",
        "\n",
        "\n"
      ],
      "metadata": {
        "id": "xxLSjribJDfK"
      },
      "execution_count": 9,
      "outputs": []
    },
    {
      "cell_type": "code",
      "source": [
        "def class_parcel(class_objects):\n",
        "  for i in class_objects:\n",
        "    i.time()\n",
        "    i.type()\n",
        "    i.price()\n"
      ],
      "metadata": {
        "id": "woUr_ceYMMW8"
      },
      "execution_count": 10,
      "outputs": []
    },
    {
      "cell_type": "code",
      "source": [
        "data_sc = data_science()\n",
        "web = web_dev()"
      ],
      "metadata": {
        "id": "auufrTpwM0fS"
      },
      "execution_count": 11,
      "outputs": []
    },
    {
      "cell_type": "code",
      "source": [
        "class_objects=[data_sc,web]"
      ],
      "metadata": {
        "id": "T4fSgMw5M_Y2"
      },
      "execution_count": 12,
      "outputs": []
    },
    {
      "cell_type": "code",
      "source": [
        "class_parcel(class_objects)"
      ],
      "metadata": {
        "colab": {
          "base_uri": "https://localhost:8080/"
        },
        "id": "gpbJRs-DNI3p",
        "outputId": "d349c162-e40a-460f-a0f7-9e62c98bc6e6"
      },
      "execution_count": 13,
      "outputs": [
        {
          "output_type": "stream",
          "name": "stdout",
          "text": [
            "Morning class:-10AM\n",
            "this is offline class:-Rajiv gandhi chowk\n",
            "the price of class is :-700/-\n",
            "Evening class :- 6PM\n",
            "This is online class:-Teams\n",
            "the price of class is :-350/-\n"
          ]
        }
      ]
    },
    {
      "cell_type": "code",
      "source": [
        "class data_science1:\n",
        "\n",
        "    def syllabus(self) :\n",
        "        print(\"this is my syllabus for data science masters \")"
      ],
      "metadata": {
        "id": "j6OzYV7QNOC4"
      },
      "execution_count": 14,
      "outputs": []
    },
    {
      "cell_type": "code",
      "source": [
        "class web_dev1:\n",
        "\n",
        "    def syllabus(self) :\n",
        "        print(\"this is  my subllabus for web dev\" )"
      ],
      "metadata": {
        "id": "8Q3SHv4BNdQm"
      },
      "execution_count": 15,
      "outputs": []
    },
    {
      "cell_type": "code",
      "source": [
        "def class_parcer(class_obj):\n",
        "    for i in class_obj :\n",
        "        i.syllabus()"
      ],
      "metadata": {
        "id": "i2zNQmVKNjG3"
      },
      "execution_count": 16,
      "outputs": []
    },
    {
      "cell_type": "code",
      "source": [
        "data = data_science1()"
      ],
      "metadata": {
        "id": "vr4H7TIbNo0A"
      },
      "execution_count": 27,
      "outputs": []
    },
    {
      "cell_type": "code",
      "source": [
        "web1 = web_dev1()\n"
      ],
      "metadata": {
        "id": "1DoNJx-7NtF9"
      },
      "execution_count": 28,
      "outputs": []
    },
    {
      "cell_type": "code",
      "source": [
        "class_obj = [data , web1]"
      ],
      "metadata": {
        "id": "-Xp3Mm9pNxaP"
      },
      "execution_count": 29,
      "outputs": []
    },
    {
      "cell_type": "code",
      "source": [
        "class_parcer(class_obj)"
      ],
      "metadata": {
        "colab": {
          "base_uri": "https://localhost:8080/"
        },
        "id": "0DlCU1K5N0wy",
        "outputId": "84dc1f69-8aa2-4867-c58f-4efc57525b10"
      },
      "execution_count": 30,
      "outputs": [
        {
          "output_type": "stream",
          "name": "stdout",
          "text": [
            "this is my syllabus for data science masters \n",
            "this is  my subllabus for web dev\n"
          ]
        }
      ]
    },
    {
      "cell_type": "code",
      "source": [
        "class India():\n",
        "\tdef capital(self):\n",
        "\t\tprint(\"New Delhi is the capital of India.\")\n",
        "\n",
        "\tdef language(self):\n",
        "\t\tprint(\"Hindi is the most widely spoken language of India.\")\n",
        "\n",
        "\tdef type(self):\n",
        "\t\tprint(\"India is a developing country.\")\n",
        "\n",
        "class USA():\n",
        "\tdef capital(self):\n",
        "\t\tprint(\"Washington, D.C. is the capital of USA.\")\n",
        "\n",
        "\tdef language(self):\n",
        "\t\tprint(\"English is the primary language of USA.\")\n",
        "\n",
        "\tdef type(self):\n",
        "\t\tprint(\"USA is a developed country.\")\n",
        "\n",
        "obj_ind = India()\n",
        "obj_usa = USA()\n",
        "for country in (obj_ind, obj_usa):\n",
        "\tcountry.capital()\n",
        "\tcountry.language()\n",
        "\tcountry.type()\n"
      ],
      "metadata": {
        "colab": {
          "base_uri": "https://localhost:8080/"
        },
        "id": "yQJb_gl6OGUW",
        "outputId": "64dbde50-b4de-42f9-f18a-97aa7fc3b5c6"
      },
      "execution_count": 31,
      "outputs": [
        {
          "output_type": "stream",
          "name": "stdout",
          "text": [
            "New Delhi is the capital of India.\n",
            "Hindi is the most widely spoken language of India.\n",
            "India is a developing country.\n",
            "Washington, D.C. is the capital of USA.\n",
            "English is the primary language of USA.\n",
            "USA is a developed country.\n"
          ]
        }
      ]
    },
    {
      "cell_type": "code",
      "source": [],
      "metadata": {
        "id": "egD_LZm1OwvS"
      },
      "execution_count": null,
      "outputs": []
    }
  ]
}